{
  "nbformat": 4,
  "nbformat_minor": 0,
  "metadata": {
    "colab": {
      "name": "Assignment_3.ipynb",
      "provenance": [],
      "collapsed_sections": [],
      "include_colab_link": true
    },
    "kernelspec": {
      "name": "python3",
      "display_name": "Python 3"
    },
    "accelerator": "GPU"
  },
  "cells": [
    {
      "cell_type": "markdown",
      "metadata": {
        "id": "view-in-github",
        "colab_type": "text"
      },
      "source": [
        "<a href=\"https://colab.research.google.com/github/TaufeeqAhmed/EIP-Session1/blob/master/Assignment_3.ipynb\" target=\"_parent\"><img src=\"https://colab.research.google.com/assets/colab-badge.svg\" alt=\"Open In Colab\"/></a>"
      ]
    },
    {
      "cell_type": "code",
      "metadata": {
        "id": "KkwXnw9OfHZl",
        "colab_type": "code",
        "colab": {
          "base_uri": "https://localhost:8080/",
          "height": 80
        },
        "outputId": "dcdc05e2-d80c-4340-a089-0c8cac0edfd7"
      },
      "source": [
        "from keras import backend as K\n",
        "import time\n",
        "import matplotlib.pyplot as plt\n",
        "import numpy as np\n",
        "% matplotlib inline\n",
        "np.random.seed(2017) \n",
        "from keras.models import Sequential\n",
        "from keras.layers.convolutional import Convolution2D, MaxPooling2D\n",
        "from keras.layers import Activation, Flatten, Dense, Dropout\n",
        "from keras.layers.normalization import BatchNormalization\n",
        "from keras.utils import np_utils"
      ],
      "execution_count": 2,
      "outputs": [
        {
          "output_type": "stream",
          "text": [
            "Using TensorFlow backend.\n"
          ],
          "name": "stderr"
        },
        {
          "output_type": "display_data",
          "data": {
            "text/html": [
              "<p style=\"color: red;\">\n",
              "The default version of TensorFlow in Colab will soon switch to TensorFlow 2.x.<br>\n",
              "We recommend you <a href=\"https://www.tensorflow.org/guide/migrate\" target=\"_blank\">upgrade</a> now \n",
              "or ensure your notebook will continue to use TensorFlow 1.x via the <code>%tensorflow_version 1.x</code> magic:\n",
              "<a href=\"https://colab.research.google.com/notebooks/tensorflow_version.ipynb\" target=\"_blank\">more info</a>.</p>\n"
            ],
            "text/plain": [
              "<IPython.core.display.HTML object>"
            ]
          },
          "metadata": {
            "tags": []
          }
        }
      ]
    },
    {
      "cell_type": "code",
      "metadata": {
        "id": "K-ZpgrsfKoEQ",
        "colab_type": "code",
        "colab": {}
      },
      "source": [
        "from keras.layers import SeparableConv2D"
      ],
      "execution_count": 0,
      "outputs": []
    },
    {
      "cell_type": "code",
      "metadata": {
        "id": "NHpnoCHZfO8g",
        "colab_type": "code",
        "colab": {}
      },
      "source": [
        "from keras.datasets import cifar10\n",
        "(train_features, train_labels), (test_features, test_labels) = cifar10.load_data()\n",
        "num_train, img_rows, img_cols, img_channels =  train_features.shape\n",
        "num_test, _, _, _ =  test_features.shape\n",
        "num_classes = len(np.unique(train_labels))\n",
        "# In training set there are 50,000 images with 32x32x3 where 3 indicates channels\n",
        "# There are 10 unique classes in this dataset\n",
        "# In test set there are 10,000 images"
      ],
      "execution_count": 0,
      "outputs": []
    },
    {
      "cell_type": "code",
      "metadata": {
        "id": "0c3RNrclmvL6",
        "colab_type": "code",
        "outputId": "b54a21b1-f5e3-48fa-fd7e-57dd64105189",
        "colab": {
          "base_uri": "https://localhost:8080/",
          "height": 51
        }
      },
      "source": [
        "train_labels[:2]"
      ],
      "execution_count": 6,
      "outputs": [
        {
          "output_type": "execute_result",
          "data": {
            "text/plain": [
              "array([[6],\n",
              "       [9]], dtype=uint8)"
            ]
          },
          "metadata": {
            "tags": []
          },
          "execution_count": 6
        }
      ]
    },
    {
      "cell_type": "code",
      "metadata": {
        "id": "14HyBUXdfS6G",
        "colab_type": "code",
        "outputId": "9dcf3335-a229-4fbe-dc6d-290a4e3947c9",
        "colab": {
          "base_uri": "https://localhost:8080/",
          "height": 213
        }
      },
      "source": [
        "class_names = ['airplane','automobile','bird','cat','deer',\n",
        "               'dog','frog','horse','ship','truck']\n",
        "fig = plt.figure(figsize=(8,3))\n",
        "for i in range(num_classes):\n",
        "    ax = fig.add_subplot(2, 5, 1 + i, xticks=[], yticks=[])\n",
        "    idx = np.where(train_labels[:]==i)[0]\n",
        "    features_idx = train_features[idx,::]\n",
        "    img_num = np.random.randint(features_idx.shape[0])\n",
        "    im = features_idx[img_num]\n",
        "    ax.set_title(class_names[i])\n",
        "    plt.imshow(im)\n",
        "plt.show()"
      ],
      "execution_count": 9,
      "outputs": [
        {
          "output_type": "display_data",
          "data": {
            "image/png": "[encoded data removed]",
            "text/plain": [
              "<Figure size 576x216 with 10 Axes>"
            ]
          },
          "metadata": {
            "tags": []
          }
        }
      ]
    },
    {
      "cell_type": "code",
      "metadata": {
        "id": "fAI0vT7GvzQ2",
        "colab_type": "code",
        "colab": {}
      },
      "source": [
        ""
      ],
      "execution_count": 0,
      "outputs": []
    },
    {
      "cell_type": "code",
      "metadata": {
        "id": "bmfsk76-fadV",
        "colab_type": "code",
        "colab": {}
      },
      "source": [
        "def plot_model_history(model_history):\n",
        "    fig, axs = plt.subplots(1,2,figsize=(15,5))\n",
        "    # summarize history for accuracy\n",
        "    axs[0].plot(range(1,len(model_history.history['acc'])+1),model_history.history['acc'])\n",
        "    axs[0].plot(range(1,len(model_history.history['val_acc'])+1),model_history.history['val_acc'])\n",
        "    axs[0].set_title('Model Accuracy')\n",
        "    axs[0].set_ylabel('Accuracy')\n",
        "    axs[0].set_xlabel('Epoch')\n",
        "    axs[0].set_xticks(np.arange(1,len(model_history.history['acc'])+1),len(model_history.history['acc'])/10)\n",
        "    axs[0].legend(['train', 'val'], loc='best')\n",
        "    # summarize history for loss\n",
        "    axs[1].plot(range(1,len(model_history.history['loss'])+1),model_history.history['loss'])\n",
        "    axs[1].plot(range(1,len(model_history.history['val_loss'])+1),model_history.history['val_loss'])\n",
        "    axs[1].set_title('Model Loss')\n",
        "    axs[1].set_ylabel('Loss')\n",
        "    axs[1].set_xlabel('Epoch')\n",
        "    axs[1].set_xticks(np.arange(1,len(model_history.history['loss'])+1),len(model_history.history['loss'])/10)\n",
        "    axs[1].legend(['train', 'val'], loc='best')\n",
        "    plt.show()"
      ],
      "execution_count": 0,
      "outputs": []
    },
    {
      "cell_type": "code",
      "metadata": {
        "id": "YJMT4rjgfdZz",
        "colab_type": "code",
        "colab": {}
      },
      "source": [
        "def accuracy(test_x, test_y, model):\n",
        "    result = model.predict(test_x)\n",
        "    predicted_class = np.argmax(result, axis=1)\n",
        "    true_class = np.argmax(test_y, axis=1)\n",
        "    num_correct = np.sum(predicted_class == true_class) \n",
        "    accuracy = float(num_correct)/result.shape[0]\n",
        "    return (accuracy * 100)"
      ],
      "execution_count": 0,
      "outputs": []
    },
    {
      "cell_type": "code",
      "metadata": {
        "id": "T5c5nDvxm6zR",
        "colab_type": "code",
        "colab": {}
      },
      "source": [
        "train_features = train_features.astype('float32')/255\n",
        "test_features = test_features.astype('float32')/255\n",
        "# convert class labels to binary class labels\n",
        "train_labels = np_utils.to_categorical(train_labels, num_classes)\n",
        "test_labels = np_utils.to_categorical(test_labels, num_classes)"
      ],
      "execution_count": 0,
      "outputs": []
    },
    {
      "cell_type": "code",
      "metadata": {
        "id": "WJFYhtiPv1Ps",
        "colab_type": "code",
        "outputId": "5de1e984-d0b8-4bc8-af77-3820b2ba90e2",
        "colab": {
          "base_uri": "https://localhost:8080/",
          "height": 136
        }
      },
      "source": [
        "train_labels"
      ],
      "execution_count": 13,
      "outputs": [
        {
          "output_type": "execute_result",
          "data": {
            "text/plain": [
              "array([[0., 0., 0., ..., 0., 0., 0.],\n",
              "       [0., 0., 0., ..., 0., 0., 1.],\n",
              "       [0., 0., 0., ..., 0., 0., 1.],\n",
              "       ...,\n",
              "       [0., 0., 0., ..., 0., 0., 1.],\n",
              "       [0., 1., 0., ..., 0., 0., 0.],\n",
              "       [0., 1., 0., ..., 0., 0., 0.]], dtype=float32)"
            ]
          },
          "metadata": {
            "tags": []
          },
          "execution_count": 13
        }
      ]
    },
    {
      "cell_type": "code",
      "metadata": {
        "id": "cSOb2lkJfhVq",
        "colab_type": "code",
        "outputId": "fe609be9-b5e8-42ed-cfcb-20a24a55a0ab",
        "colab": {
          "base_uri": "https://localhost:8080/",
          "height": 540
        }
      },
      "source": [
        "# Define the model\n",
        "model = Sequential()\n",
        "model.add(Convolution2D(48, 3, 3, border_mode='same', input_shape=(32, 32, 3))) # 32x32x48\n",
        "model.add(Activation('relu'))\n",
        "model.add(Convolution2D(48, 3, 3))  # 30x30x48\n",
        "model.add(Activation('relu'))\n",
        "model.add(MaxPooling2D(pool_size=(2, 2))) # 15x15x48\n",
        "model.add(Dropout(0.25))\n",
        "model.add(Convolution2D(96, 3, 3, border_mode='same')) #15x15x96 Keeping padding same\n",
        "model.add(Activation('relu'))\n",
        "model.add(Convolution2D(96, 3, 3))  # 13x13x96\n",
        "model.add(Activation('relu'))\n",
        "model.add(MaxPooling2D(pool_size=(2, 2)))  # 6x6x96\n",
        "model.add(Dropout(0.25))\n",
        "model.add(Convolution2D(192, 3, 3, border_mode='same')) #6x6x192 Keeping padding same\n",
        "model.add(Activation('relu'))\n",
        "model.add(Convolution2D(192, 3, 3))  # 4x4x192 \n",
        "model.add(Activation('relu'))\n",
        "model.add(MaxPooling2D(pool_size=(2, 2))) #2x2x192\n",
        "model.add(Dropout(0.25))\n",
        "model.add(Flatten())  # 4x198 = 768\n",
        "model.add(Dense(512))  # 512 fully connected layers\n",
        "model.add(Activation('relu'))\n",
        "model.add(Dropout(0.5))\n",
        "model.add(Dense(256))   # 256 fully connected layers\n",
        "model.add(Activation('relu'))\n",
        "model.add(Dropout(0.5))\n",
        "model.add(Dense(num_classes, activation='softmax')) # 10 fully connected layers equal to number of classes\n",
        "# Compile the model\n",
        "model.compile(optimizer='adam', loss='categorical_crossentropy', metrics=['accuracy'])"
      ],
      "execution_count": 0,
      "outputs": [
        {
          "output_type": "stream",
          "text": [
            "WARNING:tensorflow:From /usr/local/lib/python3.6/dist-packages/keras/backend/tensorflow_backend.py:66: The name tf.get_default_graph is deprecated. Please use tf.compat.v1.get_default_graph instead.\n",
            "\n",
            "WARNING:tensorflow:From /usr/local/lib/python3.6/dist-packages/keras/backend/tensorflow_backend.py:541: The name tf.placeholder is deprecated. Please use tf.compat.v1.placeholder instead.\n",
            "\n",
            "WARNING:tensorflow:From /usr/local/lib/python3.6/dist-packages/keras/backend/tensorflow_backend.py:4432: The name tf.random_uniform is deprecated. Please use tf.random.uniform instead.\n",
            "\n",
            "WARNING:tensorflow:From /usr/local/lib/python3.6/dist-packages/keras/backend/tensorflow_backend.py:4267: The name tf.nn.max_pool is deprecated. Please use tf.nn.max_pool2d instead.\n",
            "\n",
            "WARNING:tensorflow:From /usr/local/lib/python3.6/dist-packages/keras/backend/tensorflow_backend.py:148: The name tf.placeholder_with_default is deprecated. Please use tf.compat.v1.placeholder_with_default instead.\n",
            "\n",
            "WARNING:tensorflow:From /usr/local/lib/python3.6/dist-packages/keras/backend/tensorflow_backend.py:3733: calling dropout (from tensorflow.python.ops.nn_ops) with keep_prob is deprecated and will be removed in a future version.\n",
            "Instructions for updating:\n",
            "Please use `rate` instead of `keep_prob`. Rate should be set to `rate = 1 - keep_prob`.\n"
          ],
          "name": "stdout"
        },
        {
          "output_type": "stream",
          "text": [
            "/usr/local/lib/python3.6/dist-packages/ipykernel_launcher.py:2: UserWarning: Update your `Conv2D` call to the Keras 2 API: `Conv2D(48, (3, 3), input_shape=(32, 32, 3..., padding=\"same\")`\n",
            "  \n",
            "/usr/local/lib/python3.6/dist-packages/ipykernel_launcher.py:4: UserWarning: Update your `Conv2D` call to the Keras 2 API: `Conv2D(48, (3, 3))`\n",
            "  after removing the cwd from sys.path.\n",
            "/usr/local/lib/python3.6/dist-packages/ipykernel_launcher.py:8: UserWarning: Update your `Conv2D` call to the Keras 2 API: `Conv2D(96, (3, 3), padding=\"same\")`\n",
            "  \n",
            "/usr/local/lib/python3.6/dist-packages/ipykernel_launcher.py:10: UserWarning: Update your `Conv2D` call to the Keras 2 API: `Conv2D(96, (3, 3))`\n",
            "  # Remove the CWD from sys.path while we load stuff.\n",
            "/usr/local/lib/python3.6/dist-packages/ipykernel_launcher.py:14: UserWarning: Update your `Conv2D` call to the Keras 2 API: `Conv2D(192, (3, 3), padding=\"same\")`\n",
            "  \n",
            "/usr/local/lib/python3.6/dist-packages/ipykernel_launcher.py:16: UserWarning: Update your `Conv2D` call to the Keras 2 API: `Conv2D(192, (3, 3))`\n",
            "  app.launch_new_instance()\n"
          ],
          "name": "stderr"
        },
        {
          "output_type": "stream",
          "text": [
            "WARNING:tensorflow:From /usr/local/lib/python3.6/dist-packages/keras/optimizers.py:793: The name tf.train.Optimizer is deprecated. Please use tf.compat.v1.train.Optimizer instead.\n",
            "\n",
            "WARNING:tensorflow:From /usr/local/lib/python3.6/dist-packages/keras/backend/tensorflow_backend.py:3576: The name tf.log is deprecated. Please use tf.math.log instead.\n",
            "\n"
          ],
          "name": "stdout"
        }
      ]
    },
    {
      "cell_type": "code",
      "metadata": {
        "id": "c7UYh4_hwX11",
        "colab_type": "code",
        "outputId": "9730cdf3-0fd7-4c2b-cdb2-723bc0158b5e",
        "colab": {
          "base_uri": "https://localhost:8080/",
          "height": 35
        }
      },
      "source": [
        "print(model.output_shape)"
      ],
      "execution_count": 0,
      "outputs": [
        {
          "output_type": "stream",
          "text": [
            "(None, 10)\n"
          ],
          "name": "stdout"
        }
      ]
    },
    {
      "cell_type": "code",
      "metadata": {
        "id": "wvVs5tC8mR6Q",
        "colab_type": "code",
        "outputId": "af99e978-a27f-4e03-c06d-866ce7262735",
        "colab": {
          "base_uri": "https://localhost:8080/",
          "height": 1000
        }
      },
      "source": [
        "model.summary()"
      ],
      "execution_count": 0,
      "outputs": [
        {
          "output_type": "stream",
          "text": [
            "Model: \"sequential_1\"\n",
            "_________________________________________________________________\n",
            "Layer (type)                 Output Shape              Param #   \n",
            "=================================================================\n",
            "conv2d_1 (Conv2D)            (None, 32, 32, 48)        1344      \n",
            "_________________________________________________________________\n",
            "activation_1 (Activation)    (None, 32, 32, 48)        0         \n",
            "_________________________________________________________________\n",
            "conv2d_2 (Conv2D)            (None, 30, 30, 48)        20784     \n",
            "_________________________________________________________________\n",
            "activation_2 (Activation)    (None, 30, 30, 48)        0         \n",
            "_________________________________________________________________\n",
            "max_pooling2d_1 (MaxPooling2 (None, 15, 15, 48)        0         \n",
            "_________________________________________________________________\n",
            "dropout_1 (Dropout)          (None, 15, 15, 48)        0         \n",
            "_________________________________________________________________\n",
            "conv2d_3 (Conv2D)            (None, 15, 15, 96)        41568     \n",
            "_________________________________________________________________\n",
            "activation_3 (Activation)    (None, 15, 15, 96)        0         \n",
            "_________________________________________________________________\n",
            "conv2d_4 (Conv2D)            (None, 13, 13, 96)        83040     \n",
            "_________________________________________________________________\n",
            "activation_4 (Activation)    (None, 13, 13, 96)        0         \n",
            "_________________________________________________________________\n",
            "max_pooling2d_2 (MaxPooling2 (None, 6, 6, 96)          0         \n",
            "_________________________________________________________________\n",
            "dropout_2 (Dropout)          (None, 6, 6, 96)          0         \n",
            "_________________________________________________________________\n",
            "conv2d_5 (Conv2D)            (None, 6, 6, 192)         166080    \n",
            "_________________________________________________________________\n",
            "activation_5 (Activation)    (None, 6, 6, 192)         0         \n",
            "_________________________________________________________________\n",
            "conv2d_6 (Conv2D)            (None, 4, 4, 192)         331968    \n",
            "_________________________________________________________________\n",
            "activation_6 (Activation)    (None, 4, 4, 192)         0         \n",
            "_________________________________________________________________\n",
            "max_pooling2d_3 (MaxPooling2 (None, 2, 2, 192)         0         \n",
            "_________________________________________________________________\n",
            "dropout_3 (Dropout)          (None, 2, 2, 192)         0         \n",
            "_________________________________________________________________\n",
            "flatten_1 (Flatten)          (None, 768)               0         \n",
            "_________________________________________________________________\n",
            "dense_1 (Dense)              (None, 512)               393728    \n",
            "_________________________________________________________________\n",
            "activation_7 (Activation)    (None, 512)               0         \n",
            "_________________________________________________________________\n",
            "dropout_4 (Dropout)          (None, 512)               0         \n",
            "_________________________________________________________________\n",
            "dense_2 (Dense)              (None, 256)               131328    \n",
            "_________________________________________________________________\n",
            "activation_8 (Activation)    (None, 256)               0         \n",
            "_________________________________________________________________\n",
            "dropout_5 (Dropout)          (None, 256)               0         \n",
            "_________________________________________________________________\n",
            "dense_3 (Dense)              (None, 10)                2570      \n",
            "=================================================================\n",
            "Total params: 1,172,410\n",
            "Trainable params: 1,172,410\n",
            "Non-trainable params: 0\n",
            "_________________________________________________________________\n"
          ],
          "name": "stdout"
        }
      ]
    },
    {
      "cell_type": "code",
      "metadata": {
        "id": "5oK_V7WyfsXX",
        "colab_type": "code",
        "outputId": "0f340ced-7145-4793-96f7-f554609d75c3",
        "colab": {
          "base_uri": "https://localhost:8080/",
          "height": 1000
        }
      },
      "source": [
        "from keras.preprocessing.image import ImageDataGenerator\n",
        "\n",
        "datagen = ImageDataGenerator(zoom_range=0.0, \n",
        "                             horizontal_flip=False)\n",
        "\n",
        "\n",
        "# train the model\n",
        "start = time.time()\n",
        "# Train the model\n",
        "model_info = model.fit_generator(datagen.flow(train_features, train_labels, batch_size = 128),\n",
        "                                 samples_per_epoch = train_features.shape[0], nb_epoch = 50, \n",
        "                                 validation_data = (test_features, test_labels), verbose=1)\n",
        "end = time.time()\n",
        "print (\"Model took %0.2f seconds to train\"%(end - start))\n",
        "# plot model history\n",
        "plot_model_history(model_info)\n",
        "# compute test accuracy\n",
        "print (\"Accuracy on test data is: %0.2f\"%accuracy(test_features, test_labels, model))"
      ],
      "execution_count": 0,
      "outputs": [
        {
          "output_type": "stream",
          "text": [
            "WARNING:tensorflow:From /usr/local/lib/python3.6/dist-packages/tensorflow_core/python/ops/math_grad.py:1424: where (from tensorflow.python.ops.array_ops) is deprecated and will be removed in a future version.\n",
            "Instructions for updating:\n",
            "Use tf.where in 2.0, which has the same broadcast rule as np.where\n"
          ],
          "name": "stdout"
        },
        {
          "output_type": "stream",
          "text": [
            "/usr/local/lib/python3.6/dist-packages/ipykernel_launcher.py:12: UserWarning: The semantics of the Keras 2 argument `steps_per_epoch` is not the same as the Keras 1 argument `samples_per_epoch`. `steps_per_epoch` is the number of batches to draw from the generator at each epoch. Basically steps_per_epoch = samples_per_epoch/batch_size. Similarly `nb_val_samples`->`validation_steps` and `val_samples`->`steps` arguments have changed. Update your method calls accordingly.\n",
            "  if sys.path[0] == '':\n",
            "/usr/local/lib/python3.6/dist-packages/ipykernel_launcher.py:12: UserWarning: Update your `fit_generator` call to the Keras 2 API: `fit_generator(<keras_pre..., validation_data=(array([[[..., verbose=1, steps_per_epoch=390, epochs=50)`\n",
            "  if sys.path[0] == '':\n"
          ],
          "name": "stderr"
        },
        {
          "output_type": "stream",
          "text": [
            "WARNING:tensorflow:From /usr/local/lib/python3.6/dist-packages/keras/backend/tensorflow_backend.py:1033: The name tf.assign_add is deprecated. Please use tf.compat.v1.assign_add instead.\n",
            "\n",
            "WARNING:tensorflow:From /usr/local/lib/python3.6/dist-packages/keras/backend/tensorflow_backend.py:1020: The name tf.assign is deprecated. Please use tf.compat.v1.assign instead.\n",
            "\n",
            "WARNING:tensorflow:From /usr/local/lib/python3.6/dist-packages/keras/backend/tensorflow_backend.py:3005: The name tf.Session is deprecated. Please use tf.compat.v1.Session instead.\n",
            "\n",
            "Epoch 1/50\n",
            "WARNING:tensorflow:From /usr/local/lib/python3.6/dist-packages/keras/backend/tensorflow_backend.py:190: The name tf.get_default_session is deprecated. Please use tf.compat.v1.get_default_session instead.\n",
            "\n",
            "WARNING:tensorflow:From /usr/local/lib/python3.6/dist-packages/keras/backend/tensorflow_backend.py:197: The name tf.ConfigProto is deprecated. Please use tf.compat.v1.ConfigProto instead.\n",
            "\n",
            "WARNING:tensorflow:From /usr/local/lib/python3.6/dist-packages/keras/backend/tensorflow_backend.py:207: The name tf.global_variables is deprecated. Please use tf.compat.v1.global_variables instead.\n",
            "\n",
            "WARNING:tensorflow:From /usr/local/lib/python3.6/dist-packages/keras/backend/tensorflow_backend.py:216: The name tf.is_variable_initialized is deprecated. Please use tf.compat.v1.is_variable_initialized instead.\n",
            "\n",
            "WARNING:tensorflow:From /usr/local/lib/python3.6/dist-packages/keras/backend/tensorflow_backend.py:223: The name tf.variables_initializer is deprecated. Please use tf.compat.v1.variables_initializer instead.\n",
            "\n",
            "390/390 [==============================] - 18s 47ms/step - loss: 1.8896 - acc: 0.2740 - val_loss: 1.4972 - val_acc: 0.4428\n",
            "Epoch 2/50\n",
            "390/390 [==============================] - 9s 22ms/step - loss: 1.3643 - acc: 0.5055 - val_loss: 1.1567 - val_acc: 0.5876\n",
            "Epoch 3/50\n",
            "390/390 [==============================] - 9s 23ms/step - loss: 1.1157 - acc: 0.6079 - val_loss: 0.9687 - val_acc: 0.6612\n",
            "Epoch 4/50\n",
            "390/390 [==============================] - 9s 22ms/step - loss: 0.9774 - acc: 0.6606 - val_loss: 0.8785 - val_acc: 0.6978\n",
            "Epoch 5/50\n",
            "390/390 [==============================] - 9s 23ms/step - loss: 0.8636 - acc: 0.7037 - val_loss: 0.7665 - val_acc: 0.7363\n",
            "Epoch 6/50\n",
            "390/390 [==============================] - 9s 22ms/step - loss: 0.7932 - acc: 0.7290 - val_loss: 0.7220 - val_acc: 0.7551\n",
            "Epoch 7/50\n",
            "390/390 [==============================] - 9s 23ms/step - loss: 0.7398 - acc: 0.7484 - val_loss: 0.6959 - val_acc: 0.7646\n",
            "Epoch 8/50\n",
            "390/390 [==============================] - 9s 23ms/step - loss: 0.6968 - acc: 0.7637 - val_loss: 0.7074 - val_acc: 0.7633\n",
            "Epoch 9/50\n",
            "390/390 [==============================] - 9s 23ms/step - loss: 0.6595 - acc: 0.7754 - val_loss: 0.6925 - val_acc: 0.7683\n",
            "Epoch 10/50\n",
            "390/390 [==============================] - 9s 23ms/step - loss: 0.6362 - acc: 0.7836 - val_loss: 0.6240 - val_acc: 0.7897\n",
            "Epoch 11/50\n",
            "390/390 [==============================] - 9s 23ms/step - loss: 0.5977 - acc: 0.7979 - val_loss: 0.6299 - val_acc: 0.7858\n",
            "Epoch 12/50\n",
            "390/390 [==============================] - 9s 23ms/step - loss: 0.5884 - acc: 0.7998 - val_loss: 0.6198 - val_acc: 0.7931\n",
            "Epoch 13/50\n",
            "390/390 [==============================] - 9s 23ms/step - loss: 0.5596 - acc: 0.8092 - val_loss: 0.6090 - val_acc: 0.7997\n",
            "Epoch 14/50\n",
            "390/390 [==============================] - 9s 23ms/step - loss: 0.5377 - acc: 0.8150 - val_loss: 0.5815 - val_acc: 0.8078\n",
            "Epoch 15/50\n",
            "390/390 [==============================] - 9s 23ms/step - loss: 0.5274 - acc: 0.8191 - val_loss: 0.6466 - val_acc: 0.7903\n",
            "Epoch 16/50\n",
            "390/390 [==============================] - 9s 23ms/step - loss: 0.5068 - acc: 0.8277 - val_loss: 0.5962 - val_acc: 0.8045\n",
            "Epoch 17/50\n",
            "390/390 [==============================] - 9s 23ms/step - loss: 0.4958 - acc: 0.8317 - val_loss: 0.5758 - val_acc: 0.8102\n",
            "Epoch 18/50\n",
            "390/390 [==============================] - 9s 23ms/step - loss: 0.4829 - acc: 0.8357 - val_loss: 0.6249 - val_acc: 0.8035\n",
            "Epoch 19/50\n",
            "390/390 [==============================] - 9s 23ms/step - loss: 0.4627 - acc: 0.8427 - val_loss: 0.5723 - val_acc: 0.8134\n",
            "Epoch 20/50\n",
            "390/390 [==============================] - 9s 23ms/step - loss: 0.4724 - acc: 0.8398 - val_loss: 0.5887 - val_acc: 0.8100\n",
            "Epoch 21/50\n",
            "390/390 [==============================] - 9s 23ms/step - loss: 0.4605 - acc: 0.8427 - val_loss: 0.5765 - val_acc: 0.8138\n",
            "Epoch 22/50\n",
            "390/390 [==============================] - 9s 23ms/step - loss: 0.4471 - acc: 0.8486 - val_loss: 0.5797 - val_acc: 0.8178\n",
            "Epoch 23/50\n",
            "390/390 [==============================] - 9s 23ms/step - loss: 0.4371 - acc: 0.8522 - val_loss: 0.5966 - val_acc: 0.8097\n",
            "Epoch 24/50\n",
            "390/390 [==============================] - 9s 23ms/step - loss: 0.4293 - acc: 0.8527 - val_loss: 0.5744 - val_acc: 0.8197\n",
            "Epoch 25/50\n",
            "390/390 [==============================] - 9s 23ms/step - loss: 0.4120 - acc: 0.8604 - val_loss: 0.6229 - val_acc: 0.8072\n",
            "Epoch 26/50\n",
            "390/390 [==============================] - 9s 23ms/step - loss: 0.4167 - acc: 0.8577 - val_loss: 0.6144 - val_acc: 0.8130\n",
            "Epoch 27/50\n",
            "390/390 [==============================] - 9s 23ms/step - loss: 0.4052 - acc: 0.8617 - val_loss: 0.6033 - val_acc: 0.8147\n",
            "Epoch 28/50\n",
            "390/390 [==============================] - 9s 23ms/step - loss: 0.3980 - acc: 0.8652 - val_loss: 0.5763 - val_acc: 0.8237\n",
            "Epoch 29/50\n",
            "390/390 [==============================] - 9s 22ms/step - loss: 0.3895 - acc: 0.8680 - val_loss: 0.5831 - val_acc: 0.8140\n",
            "Epoch 30/50\n",
            "390/390 [==============================] - 9s 23ms/step - loss: 0.3925 - acc: 0.8678 - val_loss: 0.6034 - val_acc: 0.8100\n",
            "Epoch 31/50\n",
            "390/390 [==============================] - 9s 23ms/step - loss: 0.3802 - acc: 0.8711 - val_loss: 0.5885 - val_acc: 0.8181\n",
            "Epoch 32/50\n",
            "390/390 [==============================] - 9s 23ms/step - loss: 0.3788 - acc: 0.8713 - val_loss: 0.5854 - val_acc: 0.8195\n",
            "Epoch 33/50\n",
            "390/390 [==============================] - 9s 22ms/step - loss: 0.3673 - acc: 0.8758 - val_loss: 0.5653 - val_acc: 0.8245\n",
            "Epoch 34/50\n",
            "390/390 [==============================] - 9s 23ms/step - loss: 0.3724 - acc: 0.8753 - val_loss: 0.6057 - val_acc: 0.8108\n",
            "Epoch 35/50\n",
            "390/390 [==============================] - 9s 23ms/step - loss: 0.3666 - acc: 0.8752 - val_loss: 0.5699 - val_acc: 0.8276\n",
            "Epoch 36/50\n",
            "390/390 [==============================] - 9s 23ms/step - loss: 0.3573 - acc: 0.8779 - val_loss: 0.5792 - val_acc: 0.8244\n",
            "Epoch 37/50\n",
            "390/390 [==============================] - 9s 22ms/step - loss: 0.3498 - acc: 0.8807 - val_loss: 0.5872 - val_acc: 0.8207\n",
            "Epoch 38/50\n",
            "390/390 [==============================] - 9s 23ms/step - loss: 0.3496 - acc: 0.8823 - val_loss: 0.5755 - val_acc: 0.8245\n",
            "Epoch 39/50\n",
            "390/390 [==============================] - 9s 23ms/step - loss: 0.3542 - acc: 0.8811 - val_loss: 0.5703 - val_acc: 0.8267\n",
            "Epoch 40/50\n",
            "390/390 [==============================] - 9s 23ms/step - loss: 0.3433 - acc: 0.8846 - val_loss: 0.6555 - val_acc: 0.8140\n",
            "Epoch 41/50\n",
            "390/390 [==============================] - 9s 23ms/step - loss: 0.3414 - acc: 0.8871 - val_loss: 0.6014 - val_acc: 0.8210\n",
            "Epoch 42/50\n",
            "390/390 [==============================] - 9s 23ms/step - loss: 0.3450 - acc: 0.8846 - val_loss: 0.5735 - val_acc: 0.8258\n",
            "Epoch 43/50\n",
            "390/390 [==============================] - 9s 22ms/step - loss: 0.3372 - acc: 0.8885 - val_loss: 0.5803 - val_acc: 0.8183\n",
            "Epoch 44/50\n",
            "390/390 [==============================] - 9s 23ms/step - loss: 0.3248 - acc: 0.8902 - val_loss: 0.5782 - val_acc: 0.8314\n",
            "Epoch 45/50\n",
            "390/390 [==============================] - 9s 22ms/step - loss: 0.3232 - acc: 0.8908 - val_loss: 0.5927 - val_acc: 0.8243\n",
            "Epoch 46/50\n",
            "390/390 [==============================] - 9s 23ms/step - loss: 0.3197 - acc: 0.8923 - val_loss: 0.6147 - val_acc: 0.8189\n",
            "Epoch 47/50\n",
            "390/390 [==============================] - 9s 23ms/step - loss: 0.3287 - acc: 0.8923 - val_loss: 0.6218 - val_acc: 0.8184\n",
            "Epoch 48/50\n",
            "390/390 [==============================] - 9s 23ms/step - loss: 0.3165 - acc: 0.8952 - val_loss: 0.6367 - val_acc: 0.8208\n",
            "Epoch 49/50\n",
            "390/390 [==============================] - 9s 23ms/step - loss: 0.3130 - acc: 0.8964 - val_loss: 0.5878 - val_acc: 0.8331\n",
            "Epoch 50/50\n",
            "390/390 [==============================] - 9s 23ms/step - loss: 0.3189 - acc: 0.8950 - val_loss: 0.5691 - val_acc: 0.8255\n",
            "Model took 453.83 seconds to train\n"
          ],
          "name": "stdout"
        },
        {
          "output_type": "display_data",
          "data": {
            "image/png": "[encoded data removed]",
            "text/plain": [
              "<Figure size 1080x360 with 2 Axes>"
            ]
          },
          "metadata": {
            "tags": []
          }
        },
        {
          "output_type": "stream",
          "text": [
            "Accuracy on test data is: 82.55\n"
          ],
          "name": "stdout"
        }
      ]
    },
    {
      "cell_type": "code",
      "metadata": {
        "id": "KccnNgu3FDJ0",
        "colab_type": "code",
        "outputId": "ee89cd0a-5f80-4946-b51d-8aea3a1f7cdf",
        "colab": {
          "base_uri": "https://localhost:8080/",
          "height": 1000
        }
      },
      "source": [
        "# Define the model as model_new\n",
        "dropout_rate = 0.1\n",
        "model = Sequential()\n",
        "model.add(BatchNormalization(input_shape=(32, 32, 3)))\n",
        "#layer 1 \n",
        "model.add(SeparableConv2D(64, (3, 3), input_shape=(32, 32, 3), strides=1)) #30\n",
        "model.add(Activation('relu'))\n",
        "model.add(BatchNormalization())\n",
        "model.add(Dropout(dropout_rate)) # CS (30x30x32), RF (3x3)\n",
        "\n",
        "#layer 2\n",
        "model.add(SeparableConv2D(128, (3, 3))) #28\n",
        "model.add(Activation('relu'))\n",
        "model.add(BatchNormalization())\n",
        "model.add(Dropout(dropout_rate)) # CS (28x28xx1288), RF (5x5)\n",
        "\n",
        "#layer 3\n",
        "model.add(SeparableConv2D(256, (3, 3))) #26\n",
        "model.add(Activation('relu'))\n",
        "model.add(BatchNormalization())\n",
        "model.add(Dropout(dropout_rate)) # CS (26x26x256), RF (7x7)\n",
        "\n",
        "#layer 4\n",
        "model.add(SeparableConv2D(10, (1, 1))) #26\n",
        "model.add(Activation('relu')) # CS (26x26x10), RF (7x7)\n",
        "\n",
        "\n",
        "#layer 5\n",
        "model.add(SeparableConv2D(64, (3, 3))) #24\n",
        "model.add(Activation('relu'))\n",
        "model.add(BatchNormalization())\n",
        "model.add(Dropout(dropout_rate)) # CS (24x24x64), RF (9x9)\n",
        "\n",
        "#layer 6\n",
        "model.add(SeparableConv2D(128, (3, 3))) #22\n",
        "model.add(Activation('relu'))\n",
        "model.add(BatchNormalization())\n",
        "model.add(Dropout(dropout_rate)) # CS (22x22x128), RF (11x11)\n",
        "#layer 7\n",
        "model.add(SeparableConv2D(256, (3, 3))) # 20\n",
        "model.add(Activation('relu'))\n",
        "model.add(BatchNormalization())\n",
        "model.add(Dropout(dropout_rate)) # CS (20x20x256), RF (13x13)\n",
        "\n",
        "#layer 8\n",
        "model.add(SeparableConv2D(10, (1, 1))) #20\n",
        "model.add(Activation('relu')) # CS (20x20x10), RF (13x13)\n",
        "model.add(MaxPooling2D(pool_size=(2,2)))# CS (10x10x256), RF (26x26)\n",
        "\n",
        "model.add(SeparableConv2D(10, (10, 10))) #CS (1x1x10), RF (32x32)\n",
        "model.add(Flatten())\n",
        "model.add(Activation('softmax'))\n",
        "\n",
        "'''model.add(DepthwiseConv2D(num_classes, 32, 32))\n",
        "model.add(Flatten())\n",
        "model.add(Activation('softmax'))'''\n",
        "\n",
        "from keras.optimizers import Adam\n",
        "from keras.callbacks import LearningRateScheduler\n",
        "def scheduler(epoch, lr):\n",
        "  return round(0.003 * 1/(1 + 0.319 * epoch), 10)\n",
        "\n",
        "model.compile(loss='categorical_crossentropy', optimizer=Adam(lr=0.003), metrics=['accuracy'])\n",
        "model.summary()"
      ],
      "execution_count": 16,
      "outputs": [
        {
          "output_type": "stream",
          "text": [
            "Model: \"sequential_3\"\n",
            "_________________________________________________________________\n",
            "Layer (type)                 Output Shape              Param #   \n",
            "=================================================================\n",
            "batch_normalization_15 (Batc (None, 32, 32, 3)         12        \n",
            "_________________________________________________________________\n",
            "separable_conv2d_18 (Separab (None, 30, 30, 64)        283       \n",
            "_________________________________________________________________\n",
            "activation_11 (Activation)   (None, 30, 30, 64)        0         \n",
            "_________________________________________________________________\n",
            "batch_normalization_16 (Batc (None, 30, 30, 64)        256       \n",
            "_________________________________________________________________\n",
            "dropout_14 (Dropout)         (None, 30, 30, 64)        0         \n",
            "_________________________________________________________________\n",
            "separable_conv2d_19 (Separab (None, 28, 28, 128)       8896      \n",
            "_________________________________________________________________\n",
            "activation_12 (Activation)   (None, 28, 28, 128)       0         \n",
            "_________________________________________________________________\n",
            "batch_normalization_17 (Batc (None, 28, 28, 128)       512       \n",
            "_________________________________________________________________\n",
            "dropout_15 (Dropout)         (None, 28, 28, 128)       0         \n",
            "_________________________________________________________________\n",
            "separable_conv2d_20 (Separab (None, 26, 26, 256)       34176     \n",
            "_________________________________________________________________\n",
            "activation_13 (Activation)   (None, 26, 26, 256)       0         \n",
            "_________________________________________________________________\n",
            "batch_normalization_18 (Batc (None, 26, 26, 256)       1024      \n",
            "_________________________________________________________________\n",
            "dropout_16 (Dropout)         (None, 26, 26, 256)       0         \n",
            "_________________________________________________________________\n",
            "separable_conv2d_21 (Separab (None, 26, 26, 10)        2826      \n",
            "_________________________________________________________________\n",
            "activation_14 (Activation)   (None, 26, 26, 10)        0         \n",
            "_________________________________________________________________\n",
            "separable_conv2d_22 (Separab (None, 24, 24, 64)        794       \n",
            "_________________________________________________________________\n",
            "activation_15 (Activation)   (None, 24, 24, 64)        0         \n",
            "_________________________________________________________________\n",
            "batch_normalization_19 (Batc (None, 24, 24, 64)        256       \n",
            "_________________________________________________________________\n",
            "dropout_17 (Dropout)         (None, 24, 24, 64)        0         \n",
            "_________________________________________________________________\n",
            "separable_conv2d_23 (Separab (None, 22, 22, 128)       8896      \n",
            "_________________________________________________________________\n",
            "activation_16 (Activation)   (None, 22, 22, 128)       0         \n",
            "_________________________________________________________________\n",
            "batch_normalization_20 (Batc (None, 22, 22, 128)       512       \n",
            "_________________________________________________________________\n",
            "dropout_18 (Dropout)         (None, 22, 22, 128)       0         \n",
            "_________________________________________________________________\n",
            "separable_conv2d_24 (Separab (None, 20, 20, 256)       34176     \n",
            "_________________________________________________________________\n",
            "activation_17 (Activation)   (None, 20, 20, 256)       0         \n",
            "_________________________________________________________________\n",
            "batch_normalization_21 (Batc (None, 20, 20, 256)       1024      \n",
            "_________________________________________________________________\n",
            "dropout_19 (Dropout)         (None, 20, 20, 256)       0         \n",
            "_________________________________________________________________\n",
            "separable_conv2d_25 (Separab (None, 20, 20, 10)        2826      \n",
            "_________________________________________________________________\n",
            "activation_18 (Activation)   (None, 20, 20, 10)        0         \n",
            "_________________________________________________________________\n",
            "max_pooling2d_3 (MaxPooling2 (None, 10, 10, 10)        0         \n",
            "_________________________________________________________________\n",
            "separable_conv2d_26 (Separab (None, 1, 1, 10)          1110      \n",
            "_________________________________________________________________\n",
            "flatten_3 (Flatten)          (None, 10)                0         \n",
            "_________________________________________________________________\n",
            "activation_19 (Activation)   (None, 10)                0         \n",
            "=================================================================\n",
            "Total params: 97,579\n",
            "Trainable params: 95,781\n",
            "Non-trainable params: 1,798\n",
            "_________________________________________________________________\n"
          ],
          "name": "stdout"
        }
      ]
    },
    {
      "cell_type": "code",
      "metadata": {
        "id": "KLrrQDXPQolU",
        "colab_type": "code",
        "outputId": "bfaa05f9-550d-445e-e9b9-89bdfc2aaa52",
        "colab": {
          "base_uri": "https://localhost:8080/",
          "height": 1000
        }
      },
      "source": [
        "model_new.summary()"
      ],
      "execution_count": 17,
      "outputs": [
        {
          "output_type": "stream",
          "text": [
            "Model: \"sequential_1\"\n",
            "_________________________________________________________________\n",
            "Layer (type)                 Output Shape              Param #   \n",
            "=================================================================\n",
            "separable_conv2d_1 (Separabl (None, 30, 30, 32)        155       \n",
            "_________________________________________________________________\n",
            "batch_normalization_1 (Batch (None, 30, 30, 32)        128       \n",
            "_________________________________________________________________\n",
            "dropout_1 (Dropout)          (None, 30, 30, 32)        0         \n",
            "_________________________________________________________________\n",
            "separable_conv2d_2 (Separabl (None, 28, 28, 64)        2400      \n",
            "_________________________________________________________________\n",
            "batch_normalization_2 (Batch (None, 28, 28, 64)        256       \n",
            "_________________________________________________________________\n",
            "dropout_2 (Dropout)          (None, 28, 28, 64)        0         \n",
            "_________________________________________________________________\n",
            "max_pooling2d_1 (MaxPooling2 (None, 14, 14, 64)        0         \n",
            "_________________________________________________________________\n",
            "separable_conv2d_3 (Separabl (None, 12, 12, 64)        4736      \n",
            "_________________________________________________________________\n",
            "batch_normalization_3 (Batch (None, 12, 12, 64)        256       \n",
            "_________________________________________________________________\n",
            "dropout_3 (Dropout)          (None, 12, 12, 64)        0         \n",
            "_________________________________________________________________\n",
            "separable_conv2d_4 (Separabl (None, 10, 10, 128)       8896      \n",
            "_________________________________________________________________\n",
            "batch_normalization_4 (Batch (None, 10, 10, 128)       512       \n",
            "_________________________________________________________________\n",
            "dropout_4 (Dropout)          (None, 10, 10, 128)       0         \n",
            "_________________________________________________________________\n",
            "separable_conv2d_5 (Separabl (None, 8, 8, 256)         34176     \n",
            "_________________________________________________________________\n",
            "batch_normalization_5 (Batch (None, 8, 8, 256)         1024      \n",
            "_________________________________________________________________\n",
            "dropout_5 (Dropout)          (None, 8, 8, 256)         0         \n",
            "_________________________________________________________________\n",
            "separable_conv2d_6 (Separabl (None, 6, 6, 64)          18752     \n",
            "_________________________________________________________________\n",
            "batch_normalization_6 (Batch (None, 6, 6, 64)          256       \n",
            "_________________________________________________________________\n",
            "dropout_6 (Dropout)          (None, 6, 6, 64)          0         \n",
            "_________________________________________________________________\n",
            "separable_conv2d_7 (Separabl (None, 4, 4, 32)          2656      \n",
            "_________________________________________________________________\n",
            "batch_normalization_7 (Batch (None, 4, 4, 32)          128       \n",
            "_________________________________________________________________\n",
            "dropout_7 (Dropout)          (None, 4, 4, 32)          0         \n",
            "_________________________________________________________________\n",
            "separable_conv2d_8 (Separabl (None, 1, 1, 10)          842       \n",
            "_________________________________________________________________\n",
            "flatten_1 (Flatten)          (None, 10)                0         \n",
            "_________________________________________________________________\n",
            "activation_1 (Activation)    (None, 10)                0         \n",
            "=================================================================\n",
            "Total params: 75,173\n",
            "Trainable params: 73,893\n",
            "Non-trainable params: 1,280\n",
            "_________________________________________________________________\n"
          ],
          "name": "stdout"
        }
      ]
    },
    {
      "cell_type": "code",
      "metadata": {
        "id": "FFzs_nAwQo3i",
        "colab_type": "code",
        "outputId": "cdb0c2a4-9d87-4ed6-9cbb-d9f79446ee87",
        "colab": {
          "base_uri": "https://localhost:8080/",
          "height": 1000
        }
      },
      "source": [
        "from keras.preprocessing.image import ImageDataGenerator\n",
        "from keras.callbacks import LearningRateScheduler\n",
        "def scheduler(epoch, lr):\n",
        "  return round(0.004 * 1/(1 + 0.319 * epoch), 10)\n",
        "\n",
        "datagen = ImageDataGenerator(zoom_range=0.0, rotation_range=40,\n",
        "                             horizontal_flip=False)\n",
        "\n",
        "\n",
        "# train the model\n",
        "start = time.time()\n",
        "# Train the model\n",
        "model_info = model_new.fit_generator(datagen.flow(train_features, train_labels, batch_size = 64),\n",
        "                                 samples_per_epoch = train_features.shape[0], nb_epoch = 50, \n",
        "                                 validation_data = (test_features, test_labels), verbose=1,\n",
        "                                 callbacks=[LearningRateScheduler(scheduler, verbose=1)])\n",
        "end = time.time()\n",
        "print (\"Model_new took %0.2f seconds to train\"%(end - start))\n",
        "# plot model history\n",
        "plot_model_history(model_info)\n",
        "# compute test accuracy\n",
        "print (\"Accuracy on test data is: %0.2f\"%accuracy(test_features, test_labels, model_new))"
      ],
      "execution_count": 18,
      "outputs": [
        {
          "output_type": "stream",
          "text": [
            "WARNING:tensorflow:From /usr/local/lib/python3.6/dist-packages/tensorflow_core/python/ops/math_grad.py:1424: where (from tensorflow.python.ops.array_ops) is deprecated and will be removed in a future version.\n",
            "Instructions for updating:\n",
            "Use tf.where in 2.0, which has the same broadcast rule as np.where\n"
          ],
          "name": "stdout"
        },
        {
          "output_type": "stream",
          "text": [
            "/usr/local/lib/python3.6/dist-packages/ipykernel_launcher.py:16: UserWarning: The semantics of the Keras 2 argument `steps_per_epoch` is not the same as the Keras 1 argument `samples_per_epoch`. `steps_per_epoch` is the number of batches to draw from the generator at each epoch. Basically steps_per_epoch = samples_per_epoch/batch_size. Similarly `nb_val_samples`->`validation_steps` and `val_samples`->`steps` arguments have changed. Update your method calls accordingly.\n",
            "  app.launch_new_instance()\n",
            "/usr/local/lib/python3.6/dist-packages/ipykernel_launcher.py:16: UserWarning: Update your `fit_generator` call to the Keras 2 API: `fit_generator(<keras_pre..., validation_data=(array([[[..., verbose=1, callbacks=[<keras.ca..., steps_per_epoch=781, epochs=50)`\n",
            "  app.launch_new_instance()\n"
          ],
          "name": "stderr"
        },
        {
          "output_type": "stream",
          "text": [
            "WARNING:tensorflow:From /usr/local/lib/python3.6/dist-packages/keras/backend/tensorflow_backend.py:1033: The name tf.assign_add is deprecated. Please use tf.compat.v1.assign_add instead.\n",
            "\n",
            "WARNING:tensorflow:From /usr/local/lib/python3.6/dist-packages/keras/backend/tensorflow_backend.py:1020: The name tf.assign is deprecated. Please use tf.compat.v1.assign instead.\n",
            "\n",
            "Epoch 1/50\n",
            "\n",
            "Epoch 00001: LearningRateScheduler setting learning rate to 0.004.\n",
            "781/781 [==============================] - 42s 54ms/step - loss: 1.6235 - acc: 0.4126 - val_loss: 1.7934 - val_acc: 0.4295\n",
            "Epoch 2/50\n",
            "\n",
            "Epoch 00002: LearningRateScheduler setting learning rate to 0.0030326005.\n",
            "781/781 [==============================] - 35s 45ms/step - loss: 1.2713 - acc: 0.5471 - val_loss: 1.6245 - val_acc: 0.5063\n",
            "Epoch 3/50\n",
            "\n",
            "Epoch 00003: LearningRateScheduler setting learning rate to 0.0024420024.\n",
            "781/781 [==============================] - 35s 45ms/step - loss: 1.1221 - acc: 0.6050 - val_loss: 1.0975 - val_acc: 0.6262\n",
            "Epoch 4/50\n",
            "\n",
            "Epoch 00004: LearningRateScheduler setting learning rate to 0.0020439448.\n",
            "781/781 [==============================] - 35s 45ms/step - loss: 1.0353 - acc: 0.6353 - val_loss: 1.0808 - val_acc: 0.6395\n",
            "Epoch 5/50\n",
            "\n",
            "Epoch 00005: LearningRateScheduler setting learning rate to 0.0017574692.\n",
            "781/781 [==============================] - 35s 45ms/step - loss: 0.9713 - acc: 0.6571 - val_loss: 0.9108 - val_acc: 0.6830\n",
            "Epoch 6/50\n",
            "\n",
            "Epoch 00006: LearningRateScheduler setting learning rate to 0.0015414258.\n",
            "781/781 [==============================] - 35s 44ms/step - loss: 0.9237 - acc: 0.6758 - val_loss: 1.0391 - val_acc: 0.6517\n",
            "Epoch 7/50\n",
            "\n",
            "Epoch 00007: LearningRateScheduler setting learning rate to 0.0013726836.\n",
            "781/781 [==============================] - 36s 46ms/step - loss: 0.8850 - acc: 0.6919 - val_loss: 0.8858 - val_acc: 0.6996\n",
            "Epoch 8/50\n",
            "\n",
            "Epoch 00008: LearningRateScheduler setting learning rate to 0.001237241.\n",
            "781/781 [==============================] - 36s 46ms/step - loss: 0.8580 - acc: 0.6995 - val_loss: 0.9701 - val_acc: 0.6656\n",
            "Epoch 9/50\n",
            "\n",
            "Epoch 00009: LearningRateScheduler setting learning rate to 0.0011261261.\n",
            "781/781 [==============================] - 36s 47ms/step - loss: 0.8318 - acc: 0.7088 - val_loss: 0.7698 - val_acc: 0.7341\n",
            "Epoch 10/50\n",
            "\n",
            "Epoch 00010: LearningRateScheduler setting learning rate to 0.0010333247.\n",
            "781/781 [==============================] - 36s 46ms/step - loss: 0.8097 - acc: 0.7164 - val_loss: 0.8660 - val_acc: 0.7053\n",
            "Epoch 11/50\n",
            "\n",
            "Epoch 00011: LearningRateScheduler setting learning rate to 0.0009546539.\n",
            "781/781 [==============================] - 37s 47ms/step - loss: 0.7874 - acc: 0.7263 - val_loss: 0.7669 - val_acc: 0.7368\n",
            "Epoch 12/50\n",
            "\n",
            "Epoch 00012: LearningRateScheduler setting learning rate to 0.0008871147.\n",
            "781/781 [==============================] - 36s 46ms/step - loss: 0.7714 - acc: 0.7292 - val_loss: 0.8560 - val_acc: 0.7087\n",
            "Epoch 13/50\n",
            "\n",
            "Epoch 00013: LearningRateScheduler setting learning rate to 0.0008285004.\n",
            "781/781 [==============================] - 36s 46ms/step - loss: 0.7510 - acc: 0.7362 - val_loss: 0.7202 - val_acc: 0.7557\n",
            "Epoch 14/50\n",
            "\n",
            "Epoch 00014: LearningRateScheduler setting learning rate to 0.0007771517.\n",
            "781/781 [==============================] - 37s 47ms/step - loss: 0.7476 - acc: 0.7388 - val_loss: 0.7935 - val_acc: 0.7296\n",
            "Epoch 15/50\n",
            "\n",
            "Epoch 00015: LearningRateScheduler setting learning rate to 0.0007317966.\n",
            "781/781 [==============================] - 38s 48ms/step - loss: 0.7300 - acc: 0.7442 - val_loss: 0.7203 - val_acc: 0.7545\n",
            "Epoch 16/50\n",
            "\n",
            "Epoch 00016: LearningRateScheduler setting learning rate to 0.0006914434.\n",
            "781/781 [==============================] - 36s 47ms/step - loss: 0.7242 - acc: 0.7474 - val_loss: 0.7367 - val_acc: 0.7504\n",
            "Epoch 17/50\n",
            "\n",
            "Epoch 00017: LearningRateScheduler setting learning rate to 0.000655308.\n",
            "781/781 [==============================] - 36s 46ms/step - loss: 0.7128 - acc: 0.7492 - val_loss: 0.7378 - val_acc: 0.7494\n",
            "Epoch 18/50\n",
            "\n",
            "Epoch 00018: LearningRateScheduler setting learning rate to 0.0006227619.\n",
            "781/781 [==============================] - 35s 45ms/step - loss: 0.7063 - acc: 0.7513 - val_loss: 0.8879 - val_acc: 0.7036\n",
            "Epoch 19/50\n",
            "\n",
            "Epoch 00019: LearningRateScheduler setting learning rate to 0.0005932958.\n",
            "781/781 [==============================] - 37s 47ms/step - loss: 0.6982 - acc: 0.7550 - val_loss: 0.7068 - val_acc: 0.7615\n",
            "Epoch 20/50\n",
            "\n",
            "Epoch 00020: LearningRateScheduler setting learning rate to 0.000566492.\n",
            "781/781 [==============================] - 35s 45ms/step - loss: 0.6861 - acc: 0.7603 - val_loss: 0.7179 - val_acc: 0.7550\n",
            "Epoch 21/50\n",
            "\n",
            "Epoch 00021: LearningRateScheduler setting learning rate to 0.0005420054.\n",
            "781/781 [==============================] - 36s 45ms/step - loss: 0.6805 - acc: 0.7624 - val_loss: 0.6913 - val_acc: 0.7640\n",
            "Epoch 22/50\n",
            "\n",
            "Epoch 00022: LearningRateScheduler setting learning rate to 0.000519548.\n",
            "781/781 [==============================] - 36s 46ms/step - loss: 0.6748 - acc: 0.7634 - val_loss: 0.7493 - val_acc: 0.7467\n",
            "Epoch 23/50\n",
            "\n",
            "Epoch 00023: LearningRateScheduler setting learning rate to 0.0004988775.\n",
            "781/781 [==============================] - 36s 46ms/step - loss: 0.6674 - acc: 0.7686 - val_loss: 0.7049 - val_acc: 0.7647\n",
            "Epoch 24/50\n",
            "\n",
            "Epoch 00024: LearningRateScheduler setting learning rate to 0.0004797889.\n",
            "781/781 [==============================] - 36s 46ms/step - loss: 0.6593 - acc: 0.7698 - val_loss: 0.7220 - val_acc: 0.7581\n",
            "Epoch 25/50\n",
            "\n",
            "Epoch 00025: LearningRateScheduler setting learning rate to 0.0004621072.\n",
            "781/781 [==============================] - 35s 45ms/step - loss: 0.6554 - acc: 0.7705 - val_loss: 0.7080 - val_acc: 0.7610\n",
            "Epoch 26/50\n",
            "\n",
            "Epoch 00026: LearningRateScheduler setting learning rate to 0.0004456825.\n",
            "781/781 [==============================] - 36s 46ms/step - loss: 0.6492 - acc: 0.7739 - val_loss: 0.6836 - val_acc: 0.7669\n",
            "Epoch 27/50\n",
            "\n",
            "Epoch 00027: LearningRateScheduler setting learning rate to 0.0004303852.\n",
            "781/781 [==============================] - 36s 46ms/step - loss: 0.6424 - acc: 0.7745 - val_loss: 0.7087 - val_acc: 0.7595\n",
            "Epoch 28/50\n",
            "\n",
            "Epoch 00028: LearningRateScheduler setting learning rate to 0.0004161032.\n",
            "781/781 [==============================] - 36s 46ms/step - loss: 0.6386 - acc: 0.7763 - val_loss: 0.7145 - val_acc: 0.7613\n",
            "Epoch 29/50\n",
            "\n",
            "Epoch 00029: LearningRateScheduler setting learning rate to 0.0004027386.\n",
            "781/781 [==============================] - 36s 46ms/step - loss: 0.6408 - acc: 0.7756 - val_loss: 0.7015 - val_acc: 0.7634\n",
            "Epoch 30/50\n",
            "\n",
            "Epoch 00030: LearningRateScheduler setting learning rate to 0.0003902058.\n",
            "781/781 [==============================] - 36s 46ms/step - loss: 0.6331 - acc: 0.7804 - val_loss: 0.6678 - val_acc: 0.7717\n",
            "Epoch 31/50\n",
            "\n",
            "Epoch 00031: LearningRateScheduler setting learning rate to 0.0003784295.\n",
            "781/781 [==============================] - 37s 47ms/step - loss: 0.6275 - acc: 0.7807 - val_loss: 0.7356 - val_acc: 0.7583\n",
            "Epoch 32/50\n",
            "\n",
            "Epoch 00032: LearningRateScheduler setting learning rate to 0.0003673432.\n",
            "781/781 [==============================] - 37s 47ms/step - loss: 0.6231 - acc: 0.7826 - val_loss: 0.6833 - val_acc: 0.7747\n",
            "Epoch 33/50\n",
            "\n",
            "Epoch 00033: LearningRateScheduler setting learning rate to 0.0003568879.\n",
            "781/781 [==============================] - 37s 47ms/step - loss: 0.6292 - acc: 0.7815 - val_loss: 0.6755 - val_acc: 0.7754\n",
            "Epoch 34/50\n",
            "\n",
            "Epoch 00034: LearningRateScheduler setting learning rate to 0.0003470114.\n",
            "781/781 [==============================] - 37s 47ms/step - loss: 0.6199 - acc: 0.7835 - val_loss: 0.6958 - val_acc: 0.7664\n",
            "Epoch 35/50\n",
            "\n",
            "Epoch 00035: LearningRateScheduler setting learning rate to 0.0003376667.\n",
            "781/781 [==============================] - 37s 47ms/step - loss: 0.6169 - acc: 0.7847 - val_loss: 0.6714 - val_acc: 0.7761\n",
            "Epoch 36/50\n",
            "\n",
            "Epoch 00036: LearningRateScheduler setting learning rate to 0.0003288122.\n",
            "781/781 [==============================] - 37s 47ms/step - loss: 0.6120 - acc: 0.7843 - val_loss: 0.7083 - val_acc: 0.7655\n",
            "Epoch 37/50\n",
            "\n",
            "Epoch 00037: LearningRateScheduler setting learning rate to 0.0003204101.\n",
            "781/781 [==============================] - 37s 47ms/step - loss: 0.6107 - acc: 0.7868 - val_loss: 0.7027 - val_acc: 0.7641\n",
            "Epoch 38/50\n",
            "\n",
            "Epoch 00038: LearningRateScheduler setting learning rate to 0.0003124268.\n",
            "781/781 [==============================] - 36s 47ms/step - loss: 0.6056 - acc: 0.7886 - val_loss: 0.6909 - val_acc: 0.7695\n",
            "Epoch 39/50\n",
            "\n",
            "Epoch 00039: LearningRateScheduler setting learning rate to 0.0003048316.\n",
            "781/781 [==============================] - 37s 47ms/step - loss: 0.6014 - acc: 0.7893 - val_loss: 0.6758 - val_acc: 0.7745\n",
            "Epoch 40/50\n",
            "\n",
            "Epoch 00040: LearningRateScheduler setting learning rate to 0.0002975969.\n",
            "781/781 [==============================] - 37s 48ms/step - loss: 0.5988 - acc: 0.7905 - val_loss: 0.6712 - val_acc: 0.7752\n",
            "Epoch 41/50\n",
            "\n",
            "Epoch 00041: LearningRateScheduler setting learning rate to 0.0002906977.\n",
            "781/781 [==============================] - 37s 47ms/step - loss: 0.6003 - acc: 0.7872 - val_loss: 0.6907 - val_acc: 0.7708\n",
            "Epoch 42/50\n",
            "\n",
            "Epoch 00042: LearningRateScheduler setting learning rate to 0.0002841111.\n",
            "781/781 [==============================] - 36s 46ms/step - loss: 0.5984 - acc: 0.7914 - val_loss: 0.6718 - val_acc: 0.7733\n",
            "Epoch 43/50\n",
            "\n",
            "Epoch 00043: LearningRateScheduler setting learning rate to 0.0002778164.\n",
            "781/781 [==============================] - 36s 46ms/step - loss: 0.5934 - acc: 0.7930 - val_loss: 0.6630 - val_acc: 0.7785\n",
            "Epoch 44/50\n",
            "\n",
            "Epoch 00044: LearningRateScheduler setting learning rate to 0.0002717945.\n",
            "781/781 [==============================] - 36s 46ms/step - loss: 0.5924 - acc: 0.7909 - val_loss: 0.6697 - val_acc: 0.7763\n",
            "Epoch 45/50\n",
            "\n",
            "Epoch 00045: LearningRateScheduler setting learning rate to 0.0002660282.\n",
            "781/781 [==============================] - 38s 49ms/step - loss: 0.5921 - acc: 0.7928 - val_loss: 0.6913 - val_acc: 0.7727\n",
            "Epoch 46/50\n",
            "\n",
            "Epoch 00046: LearningRateScheduler setting learning rate to 0.0002605015.\n",
            "781/781 [==============================] - 37s 48ms/step - loss: 0.5861 - acc: 0.7967 - val_loss: 0.7015 - val_acc: 0.7694\n",
            "Epoch 47/50\n",
            "\n",
            "Epoch 00047: LearningRateScheduler setting learning rate to 0.0002551997.\n",
            "781/781 [==============================] - 37s 47ms/step - loss: 0.5833 - acc: 0.7971 - val_loss: 0.7022 - val_acc: 0.7671\n",
            "Epoch 48/50\n",
            "\n",
            "Epoch 00048: LearningRateScheduler setting learning rate to 0.0002501094.\n",
            "781/781 [==============================] - 37s 48ms/step - loss: 0.5862 - acc: 0.7948 - val_loss: 0.6624 - val_acc: 0.7819\n",
            "Epoch 49/50\n",
            "\n",
            "Epoch 00049: LearningRateScheduler setting learning rate to 0.0002452182.\n",
            "781/781 [==============================] - 38s 49ms/step - loss: 0.5833 - acc: 0.7953 - val_loss: 0.6809 - val_acc: 0.7784\n",
            "Epoch 50/50\n",
            "\n",
            "Epoch 00050: LearningRateScheduler setting learning rate to 0.0002405147.\n",
            "781/781 [==============================] - 38s 49ms/step - loss: 0.5802 - acc: 0.7977 - val_loss: 0.6930 - val_acc: 0.7735\n",
            "Model_new took 1823.47 seconds to train\n"
          ],
          "name": "stdout"
        },
        {
          "output_type": "display_data",
          "data": {
            "image/png": "[encoded data removed]",
            "text/plain": [
              "<Figure size 1080x360 with 2 Axes>"
            ]
          },
          "metadata": {
            "tags": []
          }
        },
        {
          "output_type": "stream",
          "text": [
            "Accuracy on test data is: 77.35\n"
          ],
          "name": "stdout"
        }
      ]
    },
    {
      "cell_type": "code",
      "metadata": {
        "id": "NIF1WX94Gvgr",
        "colab_type": "code",
        "outputId": "d45a6763-fb1b-43b6-96c1-3e62ffc29d9d",
        "colab": {
          "base_uri": "https://localhost:8080/",
          "height": 35
        }
      },
      "source": [
        "print(model_new.output_shape)"
      ],
      "execution_count": 0,
      "outputs": [
        {
          "output_type": "stream",
          "text": [
            "(None, 10)\n"
          ],
          "name": "stdout"
        }
      ]
    },
    {
      "cell_type": "code",
      "metadata": {
        "id": "H6w3WrJW-Aye",
        "colab_type": "code",
        "outputId": "60e6e495-b49c-478d-aa93-22bdc6ee40c3",
        "colab": {
          "base_uri": "https://localhost:8080/",
          "height": 34
        }
      },
      "source": [
        "train_features.shape"
      ],
      "execution_count": 0,
      "outputs": [
        {
          "output_type": "execute_result",
          "data": {
            "text/plain": [
              "(50000, 32, 32, 3)"
            ]
          },
          "metadata": {
            "tags": []
          },
          "execution_count": 14
        }
      ]
    },
    {
      "cell_type": "code",
      "metadata": {
        "id": "L3PlaXsLGtWv",
        "colab_type": "code",
        "colab": {}
      },
      "source": [
        ""
      ],
      "execution_count": 0,
      "outputs": []
    }
  ]
}