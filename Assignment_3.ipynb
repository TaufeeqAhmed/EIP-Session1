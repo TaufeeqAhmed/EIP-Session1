{
  "nbformat": 4,
  "nbformat_minor": 0,
  "metadata": {
    "colab": {
      "name": "Assignment_3.ipynb",
      "provenance": [],
      "collapsed_sections": [],
      "include_colab_link": true
    },
    "kernelspec": {
      "name": "python3",
      "display_name": "Python 3"
    },
    "accelerator": "GPU"
  },
  "cells": [
    {
      "cell_type": "markdown",
      "metadata": {
        "id": "view-in-github",
        "colab_type": "text"
      },
      "source": [
        "<a href=\"https://colab.research.google.com/github/TaufeeqAhmed/EIP-Session1/blob/master/Assignment_3.ipynb\" target=\"_parent\"><img src=\"https://colab.research.google.com/assets/colab-badge.svg\" alt=\"Open In Colab\"/></a>"
      ]
    },
    {
      "cell_type": "code",
      "metadata": {
        "id": "KkwXnw9OfHZl",
        "colab_type": "code",
        "outputId": "f601abeb-e0a1-4921-f385-6a83579a2bb5",
        "colab": {
          "base_uri": "https://localhost:8080/",
          "height": 78
        }
      },
      "source": [
        "from keras import backend as K\n",
        "import time\n",
        "import matplotlib.pyplot as plt\n",
        "import numpy as np\n",
        "% matplotlib inline\n",
        "np.random.seed(2017) \n",
        "from keras.models import Sequential\n",
        "from keras.layers.convolutional import Convolution2D, MaxPooling2D\n",
        "from keras.layers import Activation, Flatten, Dense, Dropout\n",
        "from keras.layers.normalization import BatchNormalization\n",
        "from keras.utils import np_utils"
      ],
      "execution_count": 1,
      "outputs": [
        {
          "output_type": "stream",
          "text": [
            "Using TensorFlow backend.\n"
          ],
          "name": "stderr"
        },
        {
          "output_type": "display_data",
          "data": {
            "text/html": [
              "<p style=\"color: red;\">\n",
              "The default version of TensorFlow in Colab will soon switch to TensorFlow 2.x.<br>\n",
              "We recommend you <a href=\"https://www.tensorflow.org/guide/migrate\" target=\"_blank\">upgrade</a> now \n",
              "or ensure your notebook will continue to use TensorFlow 1.x via the <code>%tensorflow_version 1.x</code> magic:\n",
              "<a href=\"https://colab.research.google.com/notebooks/tensorflow_version.ipynb\" target=\"_blank\">more info</a>.</p>\n"
            ],
            "text/plain": [
              "<IPython.core.display.HTML object>"
            ]
          },
          "metadata": {
            "tags": []
          }
        }
      ]
    },
    {
      "cell_type": "code",
      "metadata": {
        "id": "K-ZpgrsfKoEQ",
        "colab_type": "code",
        "colab": {}
      },
      "source": [
        "from keras.layers import SeparableConv2D"
      ],
      "execution_count": 0,
      "outputs": []
    },
    {
      "cell_type": "code",
      "metadata": {
        "id": "NHpnoCHZfO8g",
        "colab_type": "code",
        "colab": {
          "base_uri": "https://localhost:8080/",
          "height": 50
        },
        "outputId": "7c332f18-8d17-487b-cf89-a56512ee4cc7"
      },
      "source": [
        "from keras.datasets import cifar10\n",
        "(train_features, train_labels), (test_features, test_labels) = cifar10.load_data()\n",
        "num_train, img_rows, img_cols, img_channels =  train_features.shape\n",
        "num_test, _, _, _ =  test_features.shape\n",
        "num_classes = len(np.unique(train_labels))\n",
        "# In training set there are 50,000 images with 32x32x3 where 3 indicates channels\n",
        "# There are 10 unique classes in this dataset\n",
        "# In test set there are 10,000 images"
      ],
      "execution_count": 3,
      "outputs": [
        {
          "output_type": "stream",
          "text": [
            "Downloading data from https://www.cs.toronto.edu/~kriz/cifar-10-python.tar.gz\n",
            "170500096/170498071 [==============================] - 6s 0us/step\n"
          ],
          "name": "stdout"
        }
      ]
    },
    {
      "cell_type": "code",
      "metadata": {
        "id": "0c3RNrclmvL6",
        "colab_type": "code",
        "outputId": "4bb0b4de-a7be-4ff6-9738-cae1d9adc1c2",
        "colab": {
          "base_uri": "https://localhost:8080/",
          "height": 50
        }
      },
      "source": [
        "train_labels[:2]"
      ],
      "execution_count": 4,
      "outputs": [
        {
          "output_type": "execute_result",
          "data": {
            "text/plain": [
              "array([[6],\n",
              "       [9]], dtype=uint8)"
            ]
          },
          "metadata": {
            "tags": []
          },
          "execution_count": 4
        }
      ]
    },
    {
      "cell_type": "code",
      "metadata": {
        "id": "14HyBUXdfS6G",
        "colab_type": "code",
        "outputId": "db9aa995-a65b-4375-fe9c-0eec8f493125",
        "colab": {
          "base_uri": "https://localhost:8080/",
          "height": 213
        }
      },
      "source": [
        "class_names = ['airplane','automobile','bird','cat','deer',\n",
        "               'dog','frog','horse','ship','truck']\n",
        "fig = plt.figure(figsize=(8,3))\n",
        "for i in range(num_classes):\n",
        "    ax = fig.add_subplot(2, 5, 1 + i, xticks=[], yticks=[])\n",
        "    idx = np.where(train_labels[:]==i)[0]\n",
        "    features_idx = train_features[idx,::]\n",
        "    img_num = np.random.randint(features_idx.shape[0])\n",
        "    im = features_idx[img_num]\n",
        "    ax.set_title(class_names[i])\n",
        "    plt.imshow(im)\n",
        "plt.show()"
      ],
      "execution_count": 5,
      "outputs": [
        {
          "output_type": "display_data",
          "data": {
            "image/png": "[encoded data removed]",
            "text/plain": [
              "<Figure size 576x216 with 10 Axes>"
            ]
          },
          "metadata": {
            "tags": []
          }
        }
      ]
    },
    {
      "cell_type": "code",
      "metadata": {
        "id": "fAI0vT7GvzQ2",
        "colab_type": "code",
        "colab": {}
      },
      "source": [
        ""
      ],
      "execution_count": 0,
      "outputs": []
    },
    {
      "cell_type": "code",
      "metadata": {
        "id": "bmfsk76-fadV",
        "colab_type": "code",
        "colab": {}
      },
      "source": [
        "def plot_model_history(model_history):\n",
        "    fig, axs = plt.subplots(1,2,figsize=(15,5))\n",
        "    # summarize history for accuracy\n",
        "    axs[0].plot(range(1,len(model_history.history['acc'])+1),model_history.history['acc'])\n",
        "    axs[0].plot(range(1,len(model_history.history['val_acc'])+1),model_history.history['val_acc'])\n",
        "    axs[0].set_title('Model Accuracy')\n",
        "    axs[0].set_ylabel('Accuracy')\n",
        "    axs[0].set_xlabel('Epoch')\n",
        "    axs[0].set_xticks(np.arange(1,len(model_history.history['acc'])+1),len(model_history.history['acc'])/10)\n",
        "    axs[0].legend(['train', 'val'], loc='best')\n",
        "    # summarize history for loss\n",
        "    axs[1].plot(range(1,len(model_history.history['loss'])+1),model_history.history['loss'])\n",
        "    axs[1].plot(range(1,len(model_history.history['val_loss'])+1),model_history.history['val_loss'])\n",
        "    axs[1].set_title('Model Loss')\n",
        "    axs[1].set_ylabel('Loss')\n",
        "    axs[1].set_xlabel('Epoch')\n",
        "    axs[1].set_xticks(np.arange(1,len(model_history.history['loss'])+1),len(model_history.history['loss'])/10)\n",
        "    axs[1].legend(['train', 'val'], loc='best')\n",
        "    plt.show()"
      ],
      "execution_count": 0,
      "outputs": []
    },
    {
      "cell_type": "code",
      "metadata": {
        "id": "YJMT4rjgfdZz",
        "colab_type": "code",
        "colab": {}
      },
      "source": [
        "def accuracy(test_x, test_y, model):\n",
        "    result = model.predict(test_x)\n",
        "    predicted_class = np.argmax(result, axis=1)\n",
        "    true_class = np.argmax(test_y, axis=1)\n",
        "    num_correct = np.sum(predicted_class == true_class) \n",
        "    accuracy = float(num_correct)/result.shape[0]\n",
        "    return (accuracy * 100)"
      ],
      "execution_count": 0,
      "outputs": []
    },
    {
      "cell_type": "code",
      "metadata": {
        "id": "T5c5nDvxm6zR",
        "colab_type": "code",
        "colab": {}
      },
      "source": [
        "train_features = train_features.astype('float32')/255\n",
        "test_features = test_features.astype('float32')/255\n",
        "# convert class labels to binary class labels\n",
        "train_labels = np_utils.to_categorical(train_labels, num_classes)\n",
        "test_labels = np_utils.to_categorical(test_labels, num_classes)"
      ],
      "execution_count": 0,
      "outputs": []
    },
    {
      "cell_type": "code",
      "metadata": {
        "id": "WJFYhtiPv1Ps",
        "colab_type": "code",
        "outputId": "1dbe5fe7-9da4-4a53-ab84-69922d8c8f4b",
        "colab": {
          "base_uri": "https://localhost:8080/",
          "height": 133
        }
      },
      "source": [
        "train_labels"
      ],
      "execution_count": 9,
      "outputs": [
        {
          "output_type": "execute_result",
          "data": {
            "text/plain": [
              "array([[0., 0., 0., ..., 0., 0., 0.],\n",
              "       [0., 0., 0., ..., 0., 0., 1.],\n",
              "       [0., 0., 0., ..., 0., 0., 1.],\n",
              "       ...,\n",
              "       [0., 0., 0., ..., 0., 0., 1.],\n",
              "       [0., 1., 0., ..., 0., 0., 0.],\n",
              "       [0., 1., 0., ..., 0., 0., 0.]], dtype=float32)"
            ]
          },
          "metadata": {
            "tags": []
          },
          "execution_count": 9
        }
      ]
    },
    {
      "cell_type": "code",
      "metadata": {
        "id": "cSOb2lkJfhVq",
        "colab_type": "code",
        "outputId": "8f7e6cf2-364d-4044-c031-4ea1b4d286c4",
        "colab": {
          "base_uri": "https://localhost:8080/",
          "height": 520
        }
      },
      "source": [
        "# Define the model\n",
        "model = Sequential()\n",
        "model.add(Convolution2D(48, 3, 3, border_mode='same', input_shape=(32, 32, 3))) # 32x32x48\n",
        "model.add(Activation('relu'))\n",
        "model.add(Convolution2D(48, 3, 3))  # 30x30x48\n",
        "model.add(Activation('relu'))\n",
        "model.add(MaxPooling2D(pool_size=(2, 2))) # 15x15x48\n",
        "model.add(Dropout(0.25))\n",
        "model.add(Convolution2D(96, 3, 3, border_mode='same')) #15x15x96 Keeping padding same\n",
        "model.add(Activation('relu'))\n",
        "model.add(Convolution2D(96, 3, 3))  # 13x13x96\n",
        "model.add(Activation('relu'))\n",
        "model.add(MaxPooling2D(pool_size=(2, 2)))  # 6x6x96\n",
        "model.add(Dropout(0.25))\n",
        "model.add(Convolution2D(192, 3, 3, border_mode='same')) #6x6x192 Keeping padding same\n",
        "model.add(Activation('relu'))\n",
        "model.add(Convolution2D(192, 3, 3))  # 4x4x192 \n",
        "model.add(Activation('relu'))\n",
        "model.add(MaxPooling2D(pool_size=(2, 2))) #2x2x192\n",
        "model.add(Dropout(0.25))\n",
        "model.add(Flatten())  # 4x198 = 768\n",
        "model.add(Dense(512))  # 512 fully connected layers\n",
        "model.add(Activation('relu'))\n",
        "model.add(Dropout(0.5))\n",
        "model.add(Dense(256))   # 256 fully connected layers\n",
        "model.add(Activation('relu'))\n",
        "model.add(Dropout(0.5))\n",
        "model.add(Dense(num_classes, activation='softmax')) # 10 fully connected layers equal to number of classes\n",
        "# Compile the model\n",
        "model.compile(optimizer='adam', loss='categorical_crossentropy', metrics=['accuracy'])"
      ],
      "execution_count": 10,
      "outputs": [
        {
          "output_type": "stream",
          "text": [
            "WARNING:tensorflow:From /usr/local/lib/python3.6/dist-packages/keras/backend/tensorflow_backend.py:66: The name tf.get_default_graph is deprecated. Please use tf.compat.v1.get_default_graph instead.\n",
            "\n",
            "WARNING:tensorflow:From /usr/local/lib/python3.6/dist-packages/keras/backend/tensorflow_backend.py:541: The name tf.placeholder is deprecated. Please use tf.compat.v1.placeholder instead.\n",
            "\n",
            "WARNING:tensorflow:From /usr/local/lib/python3.6/dist-packages/keras/backend/tensorflow_backend.py:4432: The name tf.random_uniform is deprecated. Please use tf.random.uniform instead.\n",
            "\n",
            "WARNING:tensorflow:From /usr/local/lib/python3.6/dist-packages/keras/backend/tensorflow_backend.py:4267: The name tf.nn.max_pool is deprecated. Please use tf.nn.max_pool2d instead.\n",
            "\n",
            "WARNING:tensorflow:From /usr/local/lib/python3.6/dist-packages/keras/backend/tensorflow_backend.py:148: The name tf.placeholder_with_default is deprecated. Please use tf.compat.v1.placeholder_with_default instead.\n",
            "\n",
            "WARNING:tensorflow:From /usr/local/lib/python3.6/dist-packages/keras/backend/tensorflow_backend.py:3733: calling dropout (from tensorflow.python.ops.nn_ops) with keep_prob is deprecated and will be removed in a future version.\n",
            "Instructions for updating:\n",
            "Please use `rate` instead of `keep_prob`. Rate should be set to `rate = 1 - keep_prob`.\n"
          ],
          "name": "stdout"
        },
        {
          "output_type": "stream",
          "text": [
            "/usr/local/lib/python3.6/dist-packages/ipykernel_launcher.py:2: UserWarning: Update your `Conv2D` call to the Keras 2 API: `Conv2D(48, (3, 3), input_shape=(32, 32, 3..., padding=\"same\")`\n",
            "  \n",
            "/usr/local/lib/python3.6/dist-packages/ipykernel_launcher.py:4: UserWarning: Update your `Conv2D` call to the Keras 2 API: `Conv2D(48, (3, 3))`\n",
            "  after removing the cwd from sys.path.\n",
            "/usr/local/lib/python3.6/dist-packages/ipykernel_launcher.py:8: UserWarning: Update your `Conv2D` call to the Keras 2 API: `Conv2D(96, (3, 3), padding=\"same\")`\n",
            "  \n",
            "/usr/local/lib/python3.6/dist-packages/ipykernel_launcher.py:10: UserWarning: Update your `Conv2D` call to the Keras 2 API: `Conv2D(96, (3, 3))`\n",
            "  # Remove the CWD from sys.path while we load stuff.\n",
            "/usr/local/lib/python3.6/dist-packages/ipykernel_launcher.py:14: UserWarning: Update your `Conv2D` call to the Keras 2 API: `Conv2D(192, (3, 3), padding=\"same\")`\n",
            "  \n",
            "/usr/local/lib/python3.6/dist-packages/ipykernel_launcher.py:16: UserWarning: Update your `Conv2D` call to the Keras 2 API: `Conv2D(192, (3, 3))`\n",
            "  app.launch_new_instance()\n"
          ],
          "name": "stderr"
        },
        {
          "output_type": "stream",
          "text": [
            "WARNING:tensorflow:From /usr/local/lib/python3.6/dist-packages/keras/optimizers.py:793: The name tf.train.Optimizer is deprecated. Please use tf.compat.v1.train.Optimizer instead.\n",
            "\n",
            "WARNING:tensorflow:From /usr/local/lib/python3.6/dist-packages/keras/backend/tensorflow_backend.py:3576: The name tf.log is deprecated. Please use tf.math.log instead.\n",
            "\n"
          ],
          "name": "stdout"
        }
      ]
    },
    {
      "cell_type": "code",
      "metadata": {
        "id": "c7UYh4_hwX11",
        "colab_type": "code",
        "outputId": "27b2b63f-ab69-462a-f1ec-acc728a7dcef",
        "colab": {
          "base_uri": "https://localhost:8080/",
          "height": 33
        }
      },
      "source": [
        "print(model.output_shape)"
      ],
      "execution_count": 11,
      "outputs": [
        {
          "output_type": "stream",
          "text": [
            "(None, 10)\n"
          ],
          "name": "stdout"
        }
      ]
    },
    {
      "cell_type": "code",
      "metadata": {
        "id": "wvVs5tC8mR6Q",
        "colab_type": "code",
        "outputId": "cef10d4f-99d4-4937-8078-fc84fb88b582",
        "colab": {
          "base_uri": "https://localhost:8080/",
          "height": 1000
        }
      },
      "source": [
        "model.summary()"
      ],
      "execution_count": 12,
      "outputs": [
        {
          "output_type": "stream",
          "text": [
            "Model: \"sequential_1\"\n",
            "_________________________________________________________________\n",
            "Layer (type)                 Output Shape              Param #   \n",
            "=================================================================\n",
            "conv2d_1 (Conv2D)            (None, 32, 32, 48)        1344      \n",
            "_________________________________________________________________\n",
            "activation_1 (Activation)    (None, 32, 32, 48)        0         \n",
            "_________________________________________________________________\n",
            "conv2d_2 (Conv2D)            (None, 30, 30, 48)        20784     \n",
            "_________________________________________________________________\n",
            "activation_2 (Activation)    (None, 30, 30, 48)        0         \n",
            "_________________________________________________________________\n",
            "max_pooling2d_1 (MaxPooling2 (None, 15, 15, 48)        0         \n",
            "_________________________________________________________________\n",
            "dropout_1 (Dropout)          (None, 15, 15, 48)        0         \n",
            "_________________________________________________________________\n",
            "conv2d_3 (Conv2D)            (None, 15, 15, 96)        41568     \n",
            "_________________________________________________________________\n",
            "activation_3 (Activation)    (None, 15, 15, 96)        0         \n",
            "_________________________________________________________________\n",
            "conv2d_4 (Conv2D)            (None, 13, 13, 96)        83040     \n",
            "_________________________________________________________________\n",
            "activation_4 (Activation)    (None, 13, 13, 96)        0         \n",
            "_________________________________________________________________\n",
            "max_pooling2d_2 (MaxPooling2 (None, 6, 6, 96)          0         \n",
            "_________________________________________________________________\n",
            "dropout_2 (Dropout)          (None, 6, 6, 96)          0         \n",
            "_________________________________________________________________\n",
            "conv2d_5 (Conv2D)            (None, 6, 6, 192)         166080    \n",
            "_________________________________________________________________\n",
            "activation_5 (Activation)    (None, 6, 6, 192)         0         \n",
            "_________________________________________________________________\n",
            "conv2d_6 (Conv2D)            (None, 4, 4, 192)         331968    \n",
            "_________________________________________________________________\n",
            "activation_6 (Activation)    (None, 4, 4, 192)         0         \n",
            "_________________________________________________________________\n",
            "max_pooling2d_3 (MaxPooling2 (None, 2, 2, 192)         0         \n",
            "_________________________________________________________________\n",
            "dropout_3 (Dropout)          (None, 2, 2, 192)         0         \n",
            "_________________________________________________________________\n",
            "flatten_1 (Flatten)          (None, 768)               0         \n",
            "_________________________________________________________________\n",
            "dense_1 (Dense)              (None, 512)               393728    \n",
            "_________________________________________________________________\n",
            "activation_7 (Activation)    (None, 512)               0         \n",
            "_________________________________________________________________\n",
            "dropout_4 (Dropout)          (None, 512)               0         \n",
            "_________________________________________________________________\n",
            "dense_2 (Dense)              (None, 256)               131328    \n",
            "_________________________________________________________________\n",
            "activation_8 (Activation)    (None, 256)               0         \n",
            "_________________________________________________________________\n",
            "dropout_5 (Dropout)          (None, 256)               0         \n",
            "_________________________________________________________________\n",
            "dense_3 (Dense)              (None, 10)                2570      \n",
            "=================================================================\n",
            "Total params: 1,172,410\n",
            "Trainable params: 1,172,410\n",
            "Non-trainable params: 0\n",
            "_________________________________________________________________\n"
          ],
          "name": "stdout"
        }
      ]
    },
    {
      "cell_type": "code",
      "metadata": {
        "id": "5oK_V7WyfsXX",
        "colab_type": "code",
        "outputId": "f12d70c4-954b-4ebb-90bc-e52dbb1fa23d",
        "colab": {
          "base_uri": "https://localhost:8080/",
          "height": 1000
        }
      },
      "source": [
        "from keras.preprocessing.image import ImageDataGenerator\n",
        "\n",
        "datagen = ImageDataGenerator(zoom_range=0.0, \n",
        "                             horizontal_flip=False)\n",
        "\n",
        "\n",
        "# train the model\n",
        "start = time.time()\n",
        "# Train the model\n",
        "model_info = model.fit_generator(datagen.flow(train_features, train_labels, batch_size = 128),\n",
        "                                 samples_per_epoch = train_features.shape[0], nb_epoch = 50, \n",
        "                                 validation_data = (test_features, test_labels), verbose=1)\n",
        "end = time.time()\n",
        "print (\"Model took %0.2f seconds to train\"%(end - start))\n",
        "# plot model history\n",
        "plot_model_history(model_info)\n",
        "# compute test accuracy\n",
        "print (\"Accuracy on test data is: %0.2f\"%accuracy(test_features, test_labels, model))"
      ],
      "execution_count": 13,
      "outputs": [
        {
          "output_type": "stream",
          "text": [
            "WARNING:tensorflow:From /usr/local/lib/python3.6/dist-packages/tensorflow_core/python/ops/math_grad.py:1424: where (from tensorflow.python.ops.array_ops) is deprecated and will be removed in a future version.\n",
            "Instructions for updating:\n",
            "Use tf.where in 2.0, which has the same broadcast rule as np.where\n"
          ],
          "name": "stdout"
        },
        {
          "output_type": "stream",
          "text": [
            "/usr/local/lib/python3.6/dist-packages/ipykernel_launcher.py:12: UserWarning: The semantics of the Keras 2 argument `steps_per_epoch` is not the same as the Keras 1 argument `samples_per_epoch`. `steps_per_epoch` is the number of batches to draw from the generator at each epoch. Basically steps_per_epoch = samples_per_epoch/batch_size. Similarly `nb_val_samples`->`validation_steps` and `val_samples`->`steps` arguments have changed. Update your method calls accordingly.\n",
            "  if sys.path[0] == '':\n",
            "/usr/local/lib/python3.6/dist-packages/ipykernel_launcher.py:12: UserWarning: Update your `fit_generator` call to the Keras 2 API: `fit_generator(<keras_pre..., validation_data=(array([[[..., verbose=1, steps_per_epoch=390, epochs=50)`\n",
            "  if sys.path[0] == '':\n"
          ],
          "name": "stderr"
        },
        {
          "output_type": "stream",
          "text": [
            "WARNING:tensorflow:From /usr/local/lib/python3.6/dist-packages/keras/backend/tensorflow_backend.py:1033: The name tf.assign_add is deprecated. Please use tf.compat.v1.assign_add instead.\n",
            "\n",
            "WARNING:tensorflow:From /usr/local/lib/python3.6/dist-packages/keras/backend/tensorflow_backend.py:1020: The name tf.assign is deprecated. Please use tf.compat.v1.assign instead.\n",
            "\n",
            "WARNING:tensorflow:From /usr/local/lib/python3.6/dist-packages/keras/backend/tensorflow_backend.py:3005: The name tf.Session is deprecated. Please use tf.compat.v1.Session instead.\n",
            "\n",
            "Epoch 1/50\n",
            "WARNING:tensorflow:From /usr/local/lib/python3.6/dist-packages/keras/backend/tensorflow_backend.py:190: The name tf.get_default_session is deprecated. Please use tf.compat.v1.get_default_session instead.\n",
            "\n",
            "WARNING:tensorflow:From /usr/local/lib/python3.6/dist-packages/keras/backend/tensorflow_backend.py:197: The name tf.ConfigProto is deprecated. Please use tf.compat.v1.ConfigProto instead.\n",
            "\n",
            "WARNING:tensorflow:From /usr/local/lib/python3.6/dist-packages/keras/backend/tensorflow_backend.py:207: The name tf.global_variables is deprecated. Please use tf.compat.v1.global_variables instead.\n",
            "\n",
            "WARNING:tensorflow:From /usr/local/lib/python3.6/dist-packages/keras/backend/tensorflow_backend.py:216: The name tf.is_variable_initialized is deprecated. Please use tf.compat.v1.is_variable_initialized instead.\n",
            "\n",
            "WARNING:tensorflow:From /usr/local/lib/python3.6/dist-packages/keras/backend/tensorflow_backend.py:223: The name tf.variables_initializer is deprecated. Please use tf.compat.v1.variables_initializer instead.\n",
            "\n",
            "390/390 [==============================] - 29s 73ms/step - loss: 1.8639 - acc: 0.2853 - val_loss: 1.4656 - val_acc: 0.4531\n",
            "Epoch 2/50\n",
            "390/390 [==============================] - 20s 52ms/step - loss: 1.3496 - acc: 0.5119 - val_loss: 1.1215 - val_acc: 0.5987\n",
            "Epoch 3/50\n",
            "390/390 [==============================] - 20s 52ms/step - loss: 1.1045 - acc: 0.6095 - val_loss: 1.0061 - val_acc: 0.6454\n",
            "Epoch 4/50\n",
            "390/390 [==============================] - 20s 51ms/step - loss: 0.9504 - acc: 0.6662 - val_loss: 0.8451 - val_acc: 0.7057\n",
            "Epoch 5/50\n",
            "390/390 [==============================] - 20s 51ms/step - loss: 0.8603 - acc: 0.7020 - val_loss: 0.7780 - val_acc: 0.7323\n",
            "Epoch 6/50\n",
            "390/390 [==============================] - 20s 51ms/step - loss: 0.7837 - acc: 0.7304 - val_loss: 0.7617 - val_acc: 0.7377\n",
            "Epoch 7/50\n",
            "390/390 [==============================] - 20s 51ms/step - loss: 0.7282 - acc: 0.7532 - val_loss: 0.6906 - val_acc: 0.7621\n",
            "Epoch 8/50\n",
            "390/390 [==============================] - 20s 52ms/step - loss: 0.6844 - acc: 0.7677 - val_loss: 0.6397 - val_acc: 0.7822\n",
            "Epoch 9/50\n",
            "390/390 [==============================] - 20s 51ms/step - loss: 0.6499 - acc: 0.7788 - val_loss: 0.6376 - val_acc: 0.7840\n",
            "Epoch 10/50\n",
            "390/390 [==============================] - 20s 52ms/step - loss: 0.6154 - acc: 0.7890 - val_loss: 0.6183 - val_acc: 0.7914\n",
            "Epoch 11/50\n",
            "390/390 [==============================] - 20s 51ms/step - loss: 0.5937 - acc: 0.7985 - val_loss: 0.6277 - val_acc: 0.7921\n",
            "Epoch 12/50\n",
            "390/390 [==============================] - 20s 52ms/step - loss: 0.5695 - acc: 0.8030 - val_loss: 0.6341 - val_acc: 0.7903\n",
            "Epoch 13/50\n",
            "390/390 [==============================] - 20s 51ms/step - loss: 0.5453 - acc: 0.8120 - val_loss: 0.5960 - val_acc: 0.8072\n",
            "Epoch 14/50\n",
            "390/390 [==============================] - 20s 51ms/step - loss: 0.5335 - acc: 0.8195 - val_loss: 0.6201 - val_acc: 0.7926\n",
            "Epoch 15/50\n",
            "390/390 [==============================] - 20s 51ms/step - loss: 0.5207 - acc: 0.8223 - val_loss: 0.6476 - val_acc: 0.7867\n",
            "Epoch 16/50\n",
            "390/390 [==============================] - 20s 51ms/step - loss: 0.5013 - acc: 0.8288 - val_loss: 0.6077 - val_acc: 0.8014\n",
            "Epoch 17/50\n",
            "390/390 [==============================] - 20s 51ms/step - loss: 0.4908 - acc: 0.8321 - val_loss: 0.6158 - val_acc: 0.8004\n",
            "Epoch 18/50\n",
            "390/390 [==============================] - 20s 51ms/step - loss: 0.4672 - acc: 0.8405 - val_loss: 0.6139 - val_acc: 0.8072\n",
            "Epoch 19/50\n",
            "390/390 [==============================] - 20s 51ms/step - loss: 0.4633 - acc: 0.8430 - val_loss: 0.5802 - val_acc: 0.8141\n",
            "Epoch 20/50\n",
            "390/390 [==============================] - 20s 51ms/step - loss: 0.4583 - acc: 0.8424 - val_loss: 0.5774 - val_acc: 0.8092\n",
            "Epoch 21/50\n",
            "390/390 [==============================] - 20s 51ms/step - loss: 0.4399 - acc: 0.8488 - val_loss: 0.5837 - val_acc: 0.8163\n",
            "Epoch 22/50\n",
            "390/390 [==============================] - 20s 51ms/step - loss: 0.4393 - acc: 0.8503 - val_loss: 0.6219 - val_acc: 0.8063\n",
            "Epoch 23/50\n",
            "390/390 [==============================] - 20s 51ms/step - loss: 0.4241 - acc: 0.8568 - val_loss: 0.5832 - val_acc: 0.8099\n",
            "Epoch 24/50\n",
            "390/390 [==============================] - 20s 51ms/step - loss: 0.4204 - acc: 0.8580 - val_loss: 0.5595 - val_acc: 0.8173\n",
            "Epoch 25/50\n",
            "390/390 [==============================] - 20s 51ms/step - loss: 0.4077 - acc: 0.8637 - val_loss: 0.5903 - val_acc: 0.8171\n",
            "Epoch 26/50\n",
            "390/390 [==============================] - 20s 51ms/step - loss: 0.3925 - acc: 0.8664 - val_loss: 0.6184 - val_acc: 0.8083\n",
            "Epoch 27/50\n",
            "390/390 [==============================] - 20s 51ms/step - loss: 0.3962 - acc: 0.8645 - val_loss: 0.5956 - val_acc: 0.8113\n",
            "Epoch 28/50\n",
            "390/390 [==============================] - 20s 51ms/step - loss: 0.3926 - acc: 0.8680 - val_loss: 0.5742 - val_acc: 0.8199\n",
            "Epoch 29/50\n",
            "390/390 [==============================] - 20s 51ms/step - loss: 0.3934 - acc: 0.8664 - val_loss: 0.5942 - val_acc: 0.8118\n",
            "Epoch 30/50\n",
            "390/390 [==============================] - 20s 51ms/step - loss: 0.3776 - acc: 0.8728 - val_loss: 0.6070 - val_acc: 0.8148\n",
            "Epoch 31/50\n",
            "390/390 [==============================] - 20s 51ms/step - loss: 0.3739 - acc: 0.8743 - val_loss: 0.6004 - val_acc: 0.8167\n",
            "Epoch 32/50\n",
            "390/390 [==============================] - 20s 51ms/step - loss: 0.3615 - acc: 0.8784 - val_loss: 0.5771 - val_acc: 0.8230\n",
            "Epoch 33/50\n",
            "390/390 [==============================] - 20s 51ms/step - loss: 0.3591 - acc: 0.8772 - val_loss: 0.6171 - val_acc: 0.8190\n",
            "Epoch 34/50\n",
            "390/390 [==============================] - 20s 51ms/step - loss: 0.3568 - acc: 0.8795 - val_loss: 0.5843 - val_acc: 0.8220\n",
            "Epoch 35/50\n",
            "390/390 [==============================] - 20s 51ms/step - loss: 0.3590 - acc: 0.8784 - val_loss: 0.5916 - val_acc: 0.8196\n",
            "Epoch 36/50\n",
            "390/390 [==============================] - 20s 51ms/step - loss: 0.3478 - acc: 0.8829 - val_loss: 0.6005 - val_acc: 0.8191\n",
            "Epoch 37/50\n",
            "390/390 [==============================] - 20s 51ms/step - loss: 0.3430 - acc: 0.8845 - val_loss: 0.6290 - val_acc: 0.8069\n",
            "Epoch 38/50\n",
            "390/390 [==============================] - 20s 51ms/step - loss: 0.3434 - acc: 0.8863 - val_loss: 0.6020 - val_acc: 0.8161\n",
            "Epoch 39/50\n",
            "390/390 [==============================] - 20s 51ms/step - loss: 0.3339 - acc: 0.8883 - val_loss: 0.5946 - val_acc: 0.8248\n",
            "Epoch 40/50\n",
            "390/390 [==============================] - 20s 51ms/step - loss: 0.3321 - acc: 0.8891 - val_loss: 0.5788 - val_acc: 0.8260\n",
            "Epoch 41/50\n",
            "390/390 [==============================] - 20s 51ms/step - loss: 0.3287 - acc: 0.8915 - val_loss: 0.6038 - val_acc: 0.8249\n",
            "Epoch 42/50\n",
            "390/390 [==============================] - 20s 51ms/step - loss: 0.3235 - acc: 0.8925 - val_loss: 0.5794 - val_acc: 0.8258\n",
            "Epoch 43/50\n",
            "390/390 [==============================] - 20s 51ms/step - loss: 0.3220 - acc: 0.8919 - val_loss: 0.5605 - val_acc: 0.8325\n",
            "Epoch 44/50\n",
            "390/390 [==============================] - 20s 51ms/step - loss: 0.3230 - acc: 0.8919 - val_loss: 0.6209 - val_acc: 0.8219\n",
            "Epoch 45/50\n",
            "390/390 [==============================] - 20s 51ms/step - loss: 0.3106 - acc: 0.8958 - val_loss: 0.5879 - val_acc: 0.8294\n",
            "Epoch 46/50\n",
            "390/390 [==============================] - 20s 51ms/step - loss: 0.3194 - acc: 0.8933 - val_loss: 0.5962 - val_acc: 0.8287\n",
            "Epoch 47/50\n",
            "390/390 [==============================] - 20s 51ms/step - loss: 0.3122 - acc: 0.8972 - val_loss: 0.5864 - val_acc: 0.8247\n",
            "Epoch 48/50\n",
            "390/390 [==============================] - 20s 51ms/step - loss: 0.3087 - acc: 0.8987 - val_loss: 0.5972 - val_acc: 0.8263\n",
            "Epoch 49/50\n",
            "390/390 [==============================] - 20s 51ms/step - loss: 0.3024 - acc: 0.8990 - val_loss: 0.6090 - val_acc: 0.8190\n",
            "Epoch 50/50\n",
            "390/390 [==============================] - 20s 51ms/step - loss: 0.3050 - acc: 0.8996 - val_loss: 0.6003 - val_acc: 0.8304\n",
            "Model took 1005.04 seconds to train\n"
          ],
          "name": "stdout"
        },
        {
          "output_type": "display_data",
          "data": {
            "image/png": "[encoded data removed]",
            "text/plain": [
              "<Figure size 1080x360 with 2 Axes>"
            ]
          },
          "metadata": {
            "tags": []
          }
        },
        {
          "output_type": "stream",
          "text": [
            "Accuracy on test data is: 83.04\n"
          ],
          "name": "stdout"
        }
      ]
    },
    {
      "cell_type": "code",
      "metadata": {
        "id": "KccnNgu3FDJ0",
        "colab_type": "code",
        "outputId": "5dd87a3a-3cb2-4088-ff3b-5ddac4adafaf",
        "colab": {
          "base_uri": "https://localhost:8080/",
          "height": 447
        }
      },
      "source": [
        "#it uses depthwise separable convolution ONLY (no Conv2D)\n",
        "#it uses BatchNormalization \n",
        "#has less than 100,000 parameters\n",
        "#it uses proper dropout values\n",
        "#you've mentioned the output size for each layer\n",
        "#you've mentioned the receptive field for each layer\n",
        "#runs for 50 epochs\n",
        "#beats the validation score within 50 epochs (at any epoch run, doesn't need to be final one)\n",
        "# Define the model\n",
        "\n",
        "#Final Validation accuracy for Base Network\n",
        "#Your model definition (model.add... ) with output channel size and receptive field\n",
        "#Your 50 epoch logs\n",
        "\n",
        "\n",
        "modelNew = Sequential()\n",
        "\n",
        "modelNew.add(SeparableConv2D(48, 3, 3, border_mode='same', input_shape=(32, 32, 3)))  # output(32,32,48) R.F(3,3),K.size(3,3,1)\n",
        "modelNew.add(BatchNormalization()) \n",
        "modelNew.add(Activation('relu')) \n",
        "\n",
        "modelNew.add(SeparableConv2D(48, 3, 3)) # output(30,30,48) R.F(5,5),K.size(3,3,1)\n",
        "modelNew.add(BatchNormalization())\n",
        "modelNew.add(Activation('relu'))\n",
        "\n",
        "modelNew.add(MaxPooling2D(pool_size=(2, 2))) # output(15,15,48) R.F(10,10)\n",
        "modelNew.add(Dropout(0.2))\n",
        "\n",
        "modelNew.add(SeparableConv2D(96, 3, 3, border_mode='same')) # output(15,15,96) R.F(12,12),K.size(3,3,1)\n",
        "modelNew.add(BatchNormalization())\n",
        "modelNew.add(Activation('relu'))\n",
        "\n",
        "modelNew.add(SeparableConv2D(96, 3, 3)) # output(13,13,96) R.F(14,14),K.size(3,3,1)\n",
        "modelNew.add(BatchNormalization())\n",
        "modelNew.add(Activation('relu'))\n",
        "\n",
        "modelNew.add(MaxPooling2D(pool_size=(2, 2))) # output(6,6,96) R.F(28,28)\n",
        "modelNew.add(Dropout(0.2))\n",
        "\n",
        "modelNew.add(SeparableConv2D(192, 3, 3, border_mode='same')) # output(6,6,192) R.F(30,30),K.size(3,3,1)\n",
        "modelNew.add(BatchNormalization())\n",
        "modelNew.add(Activation('relu'))\n",
        "\n",
        "modelNew.add(SeparableConv2D(192, 3, 3)) # output(4,4,192) R.F(32,32),K.size(3,3,1)\n",
        "modelNew.add(BatchNormalization())\n",
        "modelNew.add(Activation('relu'))\n",
        "\n",
        "modelNew.add(MaxPooling2D(pool_size=(2, 2))) # output(2,2,192) R.F(64,64),K.size(3,3,1)\n",
        "modelNew.add(Dropout(0.2))\n",
        "\n",
        "modelNew.add(SeparableConv2D(num_classes, 4, border_mode='same')) \n",
        "\n",
        "modelNew.add(GlobalAveragePooling2D())\n",
        "modelNew.add(Activation('softmax')) \n",
        "\n",
        "# Compile the modelNew\n",
        "modelNew.compile(loss='categorical_crossentropy', optimizer='adam', metrics=['accuracy'])\n",
        "modelNew.summary()"
      ],
      "execution_count": 14,
      "outputs": [
        {
          "output_type": "stream",
          "text": [
            "WARNING:tensorflow:From /usr/local/lib/python3.6/dist-packages/keras/backend/tensorflow_backend.py:2041: The name tf.nn.fused_batch_norm is deprecated. Please use tf.compat.v1.nn.fused_batch_norm instead.\n",
            "\n"
          ],
          "name": "stdout"
        },
        {
          "output_type": "stream",
          "text": [
            "/usr/local/lib/python3.6/dist-packages/ipykernel_launcher.py:5: UserWarning: Update your `SeparableConv2D` call to the Keras 2 API: `SeparableConv2D(48, (3, 3), input_shape=(32, 32, 3..., padding=\"same\")`\n",
            "  \"\"\"\n",
            "/usr/local/lib/python3.6/dist-packages/ipykernel_launcher.py:9: UserWarning: Update your `SeparableConv2D` call to the Keras 2 API: `SeparableConv2D(48, (3, 3))`\n",
            "  if __name__ == '__main__':\n",
            "/usr/local/lib/python3.6/dist-packages/ipykernel_launcher.py:16: UserWarning: Update your `SeparableConv2D` call to the Keras 2 API: `SeparableConv2D(96, (3, 3), padding=\"same\")`\n",
            "  app.launch_new_instance()\n",
            "/usr/local/lib/python3.6/dist-packages/ipykernel_launcher.py:20: UserWarning: Update your `SeparableConv2D` call to the Keras 2 API: `SeparableConv2D(96, (3, 3))`\n",
            "/usr/local/lib/python3.6/dist-packages/ipykernel_launcher.py:27: UserWarning: Update your `SeparableConv2D` call to the Keras 2 API: `SeparableConv2D(192, (3, 3), padding=\"same\")`\n",
            "/usr/local/lib/python3.6/dist-packages/ipykernel_launcher.py:31: UserWarning: Update your `SeparableConv2D` call to the Keras 2 API: `SeparableConv2D(192, (3, 3))`\n",
            "/usr/local/lib/python3.6/dist-packages/ipykernel_launcher.py:38: UserWarning: Update your `SeparableConv2D` call to the Keras 2 API: `SeparableConv2D(10, 4, padding=\"same\")`\n"
          ],
          "name": "stderr"
        },
        {
          "output_type": "error",
          "ename": "NameError",
          "evalue": "ignored",
          "traceback": [
            "\u001b[0;31m---------------------------------------------------------------------------\u001b[0m",
            "\u001b[0;31mNameError\u001b[0m                                 Traceback (most recent call last)",
            "\u001b[0;32m<ipython-input-14-d7a0fe2d0416>\u001b[0m in \u001b[0;36m<module>\u001b[0;34m()\u001b[0m\n\u001b[1;32m     38\u001b[0m \u001b[0mmodelNew\u001b[0m\u001b[0;34m.\u001b[0m\u001b[0madd\u001b[0m\u001b[0;34m(\u001b[0m\u001b[0mSeparableConv2D\u001b[0m\u001b[0;34m(\u001b[0m\u001b[0mnum_classes\u001b[0m\u001b[0;34m,\u001b[0m \u001b[0;36m4\u001b[0m\u001b[0;34m,\u001b[0m \u001b[0mborder_mode\u001b[0m\u001b[0;34m=\u001b[0m\u001b[0;34m'same'\u001b[0m\u001b[0;34m)\u001b[0m\u001b[0;34m)\u001b[0m\u001b[0;34m\u001b[0m\u001b[0;34m\u001b[0m\u001b[0m\n\u001b[1;32m     39\u001b[0m \u001b[0;34m\u001b[0m\u001b[0m\n\u001b[0;32m---> 40\u001b[0;31m \u001b[0mmodelNew\u001b[0m\u001b[0;34m.\u001b[0m\u001b[0madd\u001b[0m\u001b[0;34m(\u001b[0m\u001b[0mGlobalAveragePooling2D\u001b[0m\u001b[0;34m(\u001b[0m\u001b[0;34m)\u001b[0m\u001b[0;34m)\u001b[0m\u001b[0;34m\u001b[0m\u001b[0;34m\u001b[0m\u001b[0m\n\u001b[0m\u001b[1;32m     41\u001b[0m \u001b[0mmodelNew\u001b[0m\u001b[0;34m.\u001b[0m\u001b[0madd\u001b[0m\u001b[0;34m(\u001b[0m\u001b[0mActivation\u001b[0m\u001b[0;34m(\u001b[0m\u001b[0;34m'softmax'\u001b[0m\u001b[0;34m)\u001b[0m\u001b[0;34m)\u001b[0m\u001b[0;34m\u001b[0m\u001b[0;34m\u001b[0m\u001b[0m\n\u001b[1;32m     42\u001b[0m \u001b[0;34m\u001b[0m\u001b[0m\n",
            "\u001b[0;31mNameError\u001b[0m: name 'GlobalAveragePooling2D' is not defined"
          ]
        }
      ]
    },
    {
      "cell_type": "code",
      "metadata": {
        "id": "KLrrQDXPQolU",
        "colab_type": "code",
        "colab": {}
      },
      "source": [
        "model_new.summary()"
      ],
      "execution_count": 0,
      "outputs": []
    },
    {
      "cell_type": "code",
      "metadata": {
        "id": "FFzs_nAwQo3i",
        "colab_type": "code",
        "colab": {}
      },
      "source": [
        "from keras.preprocessing.image import ImageDataGenerator\n",
        "from keras.callbacks import LearningRateScheduler\n",
        "def scheduler(epoch, lr):\n",
        "  return round(0.004 * 1/(1 + 0.319 * epoch), 10)\n",
        "\n",
        "datagen = ImageDataGenerator(zoom_range=0.0, rotation_range=40,\n",
        "                             horizontal_flip=False)\n",
        "\n",
        "\n",
        "# train the model\n",
        "start = time.time()\n",
        "# Train the model\n",
        "model_info = model_new.fit_generator(datagen.flow(train_features, train_labels, batch_size = 64),\n",
        "                                 samples_per_epoch = train_features.shape[0], nb_epoch = 50, \n",
        "                                 validation_data = (test_features, test_labels), verbose=1,\n",
        "                                 callbacks=[LearningRateScheduler(scheduler, verbose=1)])\n",
        "end = time.time()\n",
        "print (\"Model_new took %0.2f seconds to train\"%(end - start))\n",
        "# plot model history\n",
        "plot_model_history(model_info)\n",
        "# compute test accuracy\n",
        "print (\"Accuracy on test data is: %0.2f\"%accuracy(test_features, test_labels, model_new))"
      ],
      "execution_count": 0,
      "outputs": []
    },
    {
      "cell_type": "code",
      "metadata": {
        "id": "NIF1WX94Gvgr",
        "colab_type": "code",
        "colab": {}
      },
      "source": [
        "print(model_new.output_shape)"
      ],
      "execution_count": 0,
      "outputs": []
    },
    {
      "cell_type": "code",
      "metadata": {
        "id": "H6w3WrJW-Aye",
        "colab_type": "code",
        "colab": {}
      },
      "source": [
        "train_features.shape"
      ],
      "execution_count": 0,
      "outputs": []
    },
    {
      "cell_type": "code",
      "metadata": {
        "id": "L3PlaXsLGtWv",
        "colab_type": "code",
        "colab": {}
      },
      "source": [
        ""
      ],
      "execution_count": 0,
      "outputs": []
    }
  ]
}